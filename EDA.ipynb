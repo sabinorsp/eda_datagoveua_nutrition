{
 "cells": [
  {
   "cell_type": "markdown",
   "id": "2d354fec",
   "metadata": {},
   "source": [
    "# Nutrition, Physical Activity, and Obesity\n",
    "The referente for source data is: [source data](https://catalog.data.gov/dataset/nutrition-physical-activity-and-obesity-behavioral-risk-factor-surveillance-system) \n",
    "\n",
    "[Data Dictionary](https://chronicdata.cdc.gov/Nutrition-Physical-Activity-and-Obesity/Nutrition-Physical-Activity-and-Obesity-Behavioral/hn4x-zwk7)\n",
    "\n",
    "This dataset includes data on adult's diet, physical activity, and weight status.\n",
    "\n",
    "This dataset includes data on adult's diet, physical activity, and weight status from Behavioral Risk Factor Surveillance System. This data is used for DNPAO's Data, Trends, and Maps database, which provides national and state specific data on obesity, nutrition, physical activity, and breastfeeding.\n"
   ]
  },
  {
   "cell_type": "markdown",
   "id": "bf414424",
   "metadata": {},
   "source": [
    "\n"
   ]
  },
  {
   "cell_type": "markdown",
   "id": "b2fad3fc",
   "metadata": {},
   "source": [
    "# 1 - Load the data and first analysis about the variables"
   ]
  },
  {
   "cell_type": "code",
   "execution_count": 1,
   "id": "f584c5dc",
   "metadata": {
    "ExecuteTime": {
     "end_time": "2023-04-03T14:21:09.256687Z",
     "start_time": "2023-04-03T14:21:07.910455Z"
    }
   },
   "outputs": [],
   "source": [
    "# Load packages: \n",
    "import pandas as pd\n",
    "import numpy as np\n",
    "import matplotlib.pyplot as plt\n",
    "import seaborn as sns\n",
    "import scipy.stats as stats\n",
    "\n",
    "from sklearn.neighbors import NearestNeighbors"
   ]
  },
  {
   "cell_type": "code",
   "execution_count": 2,
   "id": "c8c35c22",
   "metadata": {
    "ExecuteTime": {
     "end_time": "2023-04-03T14:21:09.261934Z",
     "start_time": "2023-04-03T14:21:09.258828Z"
    }
   },
   "outputs": [],
   "source": [
    "# Geral configs:\n",
    "plt.style.use('bmh')"
   ]
  },
  {
   "cell_type": "code",
   "execution_count": 3,
   "id": "1ca4eb6f",
   "metadata": {
    "ExecuteTime": {
     "end_time": "2023-04-03T14:21:09.782952Z",
     "start_time": "2023-04-03T14:21:09.263165Z"
    }
   },
   "outputs": [],
   "source": [
    "# Load original data\n",
    "data = pd.read_csv('data/Nutrition__Physical_Activity__and_Obesity.csv')"
   ]
  },
  {
   "cell_type": "code",
   "execution_count": 4,
   "id": "9c7a7fca",
   "metadata": {
    "ExecuteTime": {
     "end_time": "2023-04-03T14:21:09.811385Z",
     "start_time": "2023-04-03T14:21:09.785471Z"
    }
   },
   "outputs": [
    {
     "data": {
      "text/html": [
       "<div>\n",
       "<style scoped>\n",
       "    .dataframe tbody tr th:only-of-type {\n",
       "        vertical-align: middle;\n",
       "    }\n",
       "\n",
       "    .dataframe tbody tr th {\n",
       "        vertical-align: top;\n",
       "    }\n",
       "\n",
       "    .dataframe thead th {\n",
       "        text-align: right;\n",
       "    }\n",
       "</style>\n",
       "<table border=\"1\" class=\"dataframe\">\n",
       "  <thead>\n",
       "    <tr style=\"text-align: right;\">\n",
       "      <th></th>\n",
       "      <th>YearStart</th>\n",
       "      <th>YearEnd</th>\n",
       "      <th>LocationAbbr</th>\n",
       "      <th>LocationDesc</th>\n",
       "      <th>Datasource</th>\n",
       "      <th>Class</th>\n",
       "      <th>Topic</th>\n",
       "      <th>Question</th>\n",
       "      <th>Data_Value_Unit</th>\n",
       "      <th>Data_Value_Type</th>\n",
       "      <th>...</th>\n",
       "      <th>GeoLocation</th>\n",
       "      <th>ClassID</th>\n",
       "      <th>TopicID</th>\n",
       "      <th>QuestionID</th>\n",
       "      <th>DataValueTypeID</th>\n",
       "      <th>LocationID</th>\n",
       "      <th>StratificationCategory1</th>\n",
       "      <th>Stratification1</th>\n",
       "      <th>StratificationCategoryId1</th>\n",
       "      <th>StratificationID1</th>\n",
       "    </tr>\n",
       "  </thead>\n",
       "  <tbody>\n",
       "    <tr>\n",
       "      <th>0</th>\n",
       "      <td>2020</td>\n",
       "      <td>2020</td>\n",
       "      <td>US</td>\n",
       "      <td>National</td>\n",
       "      <td>Behavioral Risk Factor Surveillance System</td>\n",
       "      <td>Physical Activity</td>\n",
       "      <td>Physical Activity - Behavior</td>\n",
       "      <td>Percent of adults who engage in no leisure-tim...</td>\n",
       "      <td>NaN</td>\n",
       "      <td>Value</td>\n",
       "      <td>...</td>\n",
       "      <td>NaN</td>\n",
       "      <td>PA</td>\n",
       "      <td>PA1</td>\n",
       "      <td>Q047</td>\n",
       "      <td>VALUE</td>\n",
       "      <td>59</td>\n",
       "      <td>Race/Ethnicity</td>\n",
       "      <td>Hispanic</td>\n",
       "      <td>RACE</td>\n",
       "      <td>RACEHIS</td>\n",
       "    </tr>\n",
       "    <tr>\n",
       "      <th>1</th>\n",
       "      <td>2014</td>\n",
       "      <td>2014</td>\n",
       "      <td>GU</td>\n",
       "      <td>Guam</td>\n",
       "      <td>Behavioral Risk Factor Surveillance System</td>\n",
       "      <td>Obesity / Weight Status</td>\n",
       "      <td>Obesity / Weight Status</td>\n",
       "      <td>Percent of adults aged 18 years and older who ...</td>\n",
       "      <td>NaN</td>\n",
       "      <td>Value</td>\n",
       "      <td>...</td>\n",
       "      <td>(13.444304, 144.793731)</td>\n",
       "      <td>OWS</td>\n",
       "      <td>OWS1</td>\n",
       "      <td>Q036</td>\n",
       "      <td>VALUE</td>\n",
       "      <td>66</td>\n",
       "      <td>Education</td>\n",
       "      <td>High school graduate</td>\n",
       "      <td>EDU</td>\n",
       "      <td>EDUHSGRAD</td>\n",
       "    </tr>\n",
       "    <tr>\n",
       "      <th>2</th>\n",
       "      <td>2013</td>\n",
       "      <td>2013</td>\n",
       "      <td>US</td>\n",
       "      <td>National</td>\n",
       "      <td>Behavioral Risk Factor Surveillance System</td>\n",
       "      <td>Obesity / Weight Status</td>\n",
       "      <td>Obesity / Weight Status</td>\n",
       "      <td>Percent of adults aged 18 years and older who ...</td>\n",
       "      <td>NaN</td>\n",
       "      <td>Value</td>\n",
       "      <td>...</td>\n",
       "      <td>NaN</td>\n",
       "      <td>OWS</td>\n",
       "      <td>OWS1</td>\n",
       "      <td>Q036</td>\n",
       "      <td>VALUE</td>\n",
       "      <td>59</td>\n",
       "      <td>Income</td>\n",
       "      <td>$50,000 - $74,999</td>\n",
       "      <td>INC</td>\n",
       "      <td>INC5075</td>\n",
       "    </tr>\n",
       "  </tbody>\n",
       "</table>\n",
       "<p>3 rows × 33 columns</p>\n",
       "</div>"
      ],
      "text/plain": [
       "   YearStart  YearEnd LocationAbbr LocationDesc  \\\n",
       "0       2020     2020           US     National   \n",
       "1       2014     2014           GU         Guam   \n",
       "2       2013     2013           US     National   \n",
       "\n",
       "                                   Datasource                    Class  \\\n",
       "0  Behavioral Risk Factor Surveillance System        Physical Activity   \n",
       "1  Behavioral Risk Factor Surveillance System  Obesity / Weight Status   \n",
       "2  Behavioral Risk Factor Surveillance System  Obesity / Weight Status   \n",
       "\n",
       "                          Topic  \\\n",
       "0  Physical Activity - Behavior   \n",
       "1       Obesity / Weight Status   \n",
       "2       Obesity / Weight Status   \n",
       "\n",
       "                                            Question  Data_Value_Unit  \\\n",
       "0  Percent of adults who engage in no leisure-tim...              NaN   \n",
       "1  Percent of adults aged 18 years and older who ...              NaN   \n",
       "2  Percent of adults aged 18 years and older who ...              NaN   \n",
       "\n",
       "  Data_Value_Type  ...              GeoLocation  ClassID TopicID QuestionID  \\\n",
       "0           Value  ...                      NaN       PA     PA1       Q047   \n",
       "1           Value  ...  (13.444304, 144.793731)      OWS    OWS1       Q036   \n",
       "2           Value  ...                      NaN      OWS    OWS1       Q036   \n",
       "\n",
       "   DataValueTypeID  LocationID  StratificationCategory1       Stratification1  \\\n",
       "0            VALUE          59           Race/Ethnicity              Hispanic   \n",
       "1            VALUE          66                Education  High school graduate   \n",
       "2            VALUE          59                   Income     $50,000 - $74,999   \n",
       "\n",
       "  StratificationCategoryId1 StratificationID1  \n",
       "0                      RACE           RACEHIS  \n",
       "1                       EDU         EDUHSGRAD  \n",
       "2                       INC           INC5075  \n",
       "\n",
       "[3 rows x 33 columns]"
      ]
     },
     "execution_count": 4,
     "metadata": {},
     "output_type": "execute_result"
    }
   ],
   "source": [
    "data.head(3)"
   ]
  },
  {
   "cell_type": "code",
   "execution_count": 5,
   "id": "1f41e642",
   "metadata": {
    "ExecuteTime": {
     "end_time": "2023-04-03T14:21:09.897849Z",
     "start_time": "2023-04-03T14:21:09.813523Z"
    }
   },
   "outputs": [
    {
     "data": {
      "text/plain": [
       "Index(['YearStart', 'YearEnd', 'LocationAbbr', 'LocationDesc', 'Datasource',\n",
       "       'Class', 'Topic', 'Question', 'Data_Value_Unit', 'Data_Value_Type',\n",
       "       'Data_Value', 'Data_Value_Alt', 'Data_Value_Footnote_Symbol',\n",
       "       'Data_Value_Footnote', 'Low_Confidence_Limit', 'High_Confidence_Limit ',\n",
       "       'Sample_Size', 'Total', 'Age(years)', 'Education', 'Gender', 'Income',\n",
       "       'Race/Ethnicity', 'GeoLocation', 'ClassID', 'TopicID', 'QuestionID',\n",
       "       'DataValueTypeID', 'LocationID', 'StratificationCategory1',\n",
       "       'Stratification1', 'StratificationCategoryId1', 'StratificationID1'],\n",
       "      dtype='object')"
      ]
     },
     "execution_count": 5,
     "metadata": {},
     "output_type": "execute_result"
    }
   ],
   "source": [
    "# Verify all columns name and the shape of data:\n",
    "data.columns"
   ]
  },
  {
   "cell_type": "code",
   "execution_count": 6,
   "id": "5a958d7d",
   "metadata": {
    "ExecuteTime": {
     "end_time": "2023-04-03T14:21:10.031670Z",
     "start_time": "2023-04-03T14:21:09.899934Z"
    }
   },
   "outputs": [
    {
     "data": {
      "text/plain": [
       "(88629, 33)"
      ]
     },
     "execution_count": 6,
     "metadata": {},
     "output_type": "execute_result"
    }
   ],
   "source": [
    "data.shape"
   ]
  },
  {
   "cell_type": "markdown",
   "id": "56d26290",
   "metadata": {},
   "source": [
    "Verify the values null about all columns:"
   ]
  },
  {
   "cell_type": "code",
   "execution_count": 7,
   "id": "90da5093",
   "metadata": {
    "ExecuteTime": {
     "end_time": "2023-04-03T14:21:10.434377Z",
     "start_time": "2023-04-03T14:21:10.034436Z"
    }
   },
   "outputs": [
    {
     "data": {
      "text/html": [
       "<div>\n",
       "<style scoped>\n",
       "    .dataframe tbody tr th:only-of-type {\n",
       "        vertical-align: middle;\n",
       "    }\n",
       "\n",
       "    .dataframe tbody tr th {\n",
       "        vertical-align: top;\n",
       "    }\n",
       "\n",
       "    .dataframe thead th {\n",
       "        text-align: right;\n",
       "    }\n",
       "</style>\n",
       "<table border=\"1\" class=\"dataframe\">\n",
       "  <thead>\n",
       "    <tr style=\"text-align: right;\">\n",
       "      <th></th>\n",
       "      <th>Total Values null</th>\n",
       "      <th>%_weight</th>\n",
       "    </tr>\n",
       "  </thead>\n",
       "  <tbody>\n",
       "    <tr>\n",
       "      <th>YearStart</th>\n",
       "      <td>0</td>\n",
       "      <td>0.000000</td>\n",
       "    </tr>\n",
       "    <tr>\n",
       "      <th>YearEnd</th>\n",
       "      <td>0</td>\n",
       "      <td>0.000000</td>\n",
       "    </tr>\n",
       "    <tr>\n",
       "      <th>LocationAbbr</th>\n",
       "      <td>0</td>\n",
       "      <td>0.000000</td>\n",
       "    </tr>\n",
       "    <tr>\n",
       "      <th>LocationDesc</th>\n",
       "      <td>0</td>\n",
       "      <td>0.000000</td>\n",
       "    </tr>\n",
       "    <tr>\n",
       "      <th>Datasource</th>\n",
       "      <td>0</td>\n",
       "      <td>0.000000</td>\n",
       "    </tr>\n",
       "    <tr>\n",
       "      <th>Class</th>\n",
       "      <td>0</td>\n",
       "      <td>0.000000</td>\n",
       "    </tr>\n",
       "    <tr>\n",
       "      <th>Topic</th>\n",
       "      <td>0</td>\n",
       "      <td>0.000000</td>\n",
       "    </tr>\n",
       "    <tr>\n",
       "      <th>Question</th>\n",
       "      <td>0</td>\n",
       "      <td>0.000000</td>\n",
       "    </tr>\n",
       "    <tr>\n",
       "      <th>Data_Value_Unit</th>\n",
       "      <td>88629</td>\n",
       "      <td>100.000000</td>\n",
       "    </tr>\n",
       "    <tr>\n",
       "      <th>Data_Value_Type</th>\n",
       "      <td>0</td>\n",
       "      <td>0.000000</td>\n",
       "    </tr>\n",
       "    <tr>\n",
       "      <th>Data_Value</th>\n",
       "      <td>8778</td>\n",
       "      <td>9.904207</td>\n",
       "    </tr>\n",
       "    <tr>\n",
       "      <th>Data_Value_Alt</th>\n",
       "      <td>8778</td>\n",
       "      <td>9.904207</td>\n",
       "    </tr>\n",
       "    <tr>\n",
       "      <th>Data_Value_Footnote_Symbol</th>\n",
       "      <td>79851</td>\n",
       "      <td>90.095793</td>\n",
       "    </tr>\n",
       "    <tr>\n",
       "      <th>Data_Value_Footnote</th>\n",
       "      <td>79851</td>\n",
       "      <td>90.095793</td>\n",
       "    </tr>\n",
       "    <tr>\n",
       "      <th>Low_Confidence_Limit</th>\n",
       "      <td>8778</td>\n",
       "      <td>9.904207</td>\n",
       "    </tr>\n",
       "    <tr>\n",
       "      <th>High_Confidence_Limit</th>\n",
       "      <td>8778</td>\n",
       "      <td>9.904207</td>\n",
       "    </tr>\n",
       "    <tr>\n",
       "      <th>Sample_Size</th>\n",
       "      <td>8778</td>\n",
       "      <td>9.904207</td>\n",
       "    </tr>\n",
       "    <tr>\n",
       "      <th>Total</th>\n",
       "      <td>85464</td>\n",
       "      <td>96.428934</td>\n",
       "    </tr>\n",
       "    <tr>\n",
       "      <th>Age(years)</th>\n",
       "      <td>69639</td>\n",
       "      <td>78.573605</td>\n",
       "    </tr>\n",
       "    <tr>\n",
       "      <th>Education</th>\n",
       "      <td>75969</td>\n",
       "      <td>85.715736</td>\n",
       "    </tr>\n",
       "    <tr>\n",
       "      <th>Gender</th>\n",
       "      <td>82299</td>\n",
       "      <td>92.857868</td>\n",
       "    </tr>\n",
       "    <tr>\n",
       "      <th>Income</th>\n",
       "      <td>66474</td>\n",
       "      <td>75.002539</td>\n",
       "    </tr>\n",
       "    <tr>\n",
       "      <th>Race/Ethnicity</th>\n",
       "      <td>63309</td>\n",
       "      <td>71.431473</td>\n",
       "    </tr>\n",
       "    <tr>\n",
       "      <th>GeoLocation</th>\n",
       "      <td>1652</td>\n",
       "      <td>1.863950</td>\n",
       "    </tr>\n",
       "    <tr>\n",
       "      <th>ClassID</th>\n",
       "      <td>0</td>\n",
       "      <td>0.000000</td>\n",
       "    </tr>\n",
       "    <tr>\n",
       "      <th>TopicID</th>\n",
       "      <td>0</td>\n",
       "      <td>0.000000</td>\n",
       "    </tr>\n",
       "    <tr>\n",
       "      <th>QuestionID</th>\n",
       "      <td>0</td>\n",
       "      <td>0.000000</td>\n",
       "    </tr>\n",
       "    <tr>\n",
       "      <th>DataValueTypeID</th>\n",
       "      <td>0</td>\n",
       "      <td>0.000000</td>\n",
       "    </tr>\n",
       "    <tr>\n",
       "      <th>LocationID</th>\n",
       "      <td>0</td>\n",
       "      <td>0.000000</td>\n",
       "    </tr>\n",
       "    <tr>\n",
       "      <th>StratificationCategory1</th>\n",
       "      <td>9</td>\n",
       "      <td>0.010155</td>\n",
       "    </tr>\n",
       "    <tr>\n",
       "      <th>Stratification1</th>\n",
       "      <td>9</td>\n",
       "      <td>0.010155</td>\n",
       "    </tr>\n",
       "    <tr>\n",
       "      <th>StratificationCategoryId1</th>\n",
       "      <td>9</td>\n",
       "      <td>0.010155</td>\n",
       "    </tr>\n",
       "    <tr>\n",
       "      <th>StratificationID1</th>\n",
       "      <td>9</td>\n",
       "      <td>0.010155</td>\n",
       "    </tr>\n",
       "  </tbody>\n",
       "</table>\n",
       "</div>"
      ],
      "text/plain": [
       "                            Total Values null    %_weight\n",
       "YearStart                                   0    0.000000\n",
       "YearEnd                                     0    0.000000\n",
       "LocationAbbr                                0    0.000000\n",
       "LocationDesc                                0    0.000000\n",
       "Datasource                                  0    0.000000\n",
       "Class                                       0    0.000000\n",
       "Topic                                       0    0.000000\n",
       "Question                                    0    0.000000\n",
       "Data_Value_Unit                         88629  100.000000\n",
       "Data_Value_Type                             0    0.000000\n",
       "Data_Value                               8778    9.904207\n",
       "Data_Value_Alt                           8778    9.904207\n",
       "Data_Value_Footnote_Symbol              79851   90.095793\n",
       "Data_Value_Footnote                     79851   90.095793\n",
       "Low_Confidence_Limit                     8778    9.904207\n",
       "High_Confidence_Limit                    8778    9.904207\n",
       "Sample_Size                              8778    9.904207\n",
       "Total                                   85464   96.428934\n",
       "Age(years)                              69639   78.573605\n",
       "Education                               75969   85.715736\n",
       "Gender                                  82299   92.857868\n",
       "Income                                  66474   75.002539\n",
       "Race/Ethnicity                          63309   71.431473\n",
       "GeoLocation                              1652    1.863950\n",
       "ClassID                                     0    0.000000\n",
       "TopicID                                     0    0.000000\n",
       "QuestionID                                  0    0.000000\n",
       "DataValueTypeID                             0    0.000000\n",
       "LocationID                                  0    0.000000\n",
       "StratificationCategory1                     9    0.010155\n",
       "Stratification1                             9    0.010155\n",
       "StratificationCategoryId1                   9    0.010155\n",
       "StratificationID1                           9    0.010155"
      ]
     },
     "execution_count": 7,
     "metadata": {},
     "output_type": "execute_result"
    }
   ],
   "source": [
    "na_values = pd.DataFrame(data.isna().sum(), columns=['Total Values null'])\n",
    "na_values['%_weight'] = na_values['Total Values null'].apply(lambda x: x/data.shape[0]*100)\n",
    "na_values"
   ]
  },
  {
   "cell_type": "markdown",
   "id": "03e2ac2e",
   "metadata": {},
   "source": [
    "Here we can drop the variable that contain more than 50% loss values, because this is not be representative. The variables with contain others null values will be treated."
   ]
  },
  {
   "cell_type": "markdown",
   "id": "d6e822d9",
   "metadata": {},
   "source": [
    "List the columns to be drop:"
   ]
  },
  {
   "cell_type": "code",
   "execution_count": 8,
   "id": "260c7723",
   "metadata": {
    "ExecuteTime": {
     "end_time": "2023-04-03T14:21:10.444070Z",
     "start_time": "2023-04-03T14:21:10.435999Z"
    }
   },
   "outputs": [
    {
     "data": {
      "text/html": [
       "<div>\n",
       "<style scoped>\n",
       "    .dataframe tbody tr th:only-of-type {\n",
       "        vertical-align: middle;\n",
       "    }\n",
       "\n",
       "    .dataframe tbody tr th {\n",
       "        vertical-align: top;\n",
       "    }\n",
       "\n",
       "    .dataframe thead th {\n",
       "        text-align: right;\n",
       "    }\n",
       "</style>\n",
       "<table border=\"1\" class=\"dataframe\">\n",
       "  <thead>\n",
       "    <tr style=\"text-align: right;\">\n",
       "      <th></th>\n",
       "      <th>Total Values null</th>\n",
       "      <th>%_weight</th>\n",
       "    </tr>\n",
       "  </thead>\n",
       "  <tbody>\n",
       "    <tr>\n",
       "      <th>Data_Value_Unit</th>\n",
       "      <td>88629</td>\n",
       "      <td>100.000000</td>\n",
       "    </tr>\n",
       "    <tr>\n",
       "      <th>Data_Value_Footnote_Symbol</th>\n",
       "      <td>79851</td>\n",
       "      <td>90.095793</td>\n",
       "    </tr>\n",
       "    <tr>\n",
       "      <th>Data_Value_Footnote</th>\n",
       "      <td>79851</td>\n",
       "      <td>90.095793</td>\n",
       "    </tr>\n",
       "    <tr>\n",
       "      <th>Total</th>\n",
       "      <td>85464</td>\n",
       "      <td>96.428934</td>\n",
       "    </tr>\n",
       "    <tr>\n",
       "      <th>Age(years)</th>\n",
       "      <td>69639</td>\n",
       "      <td>78.573605</td>\n",
       "    </tr>\n",
       "    <tr>\n",
       "      <th>Education</th>\n",
       "      <td>75969</td>\n",
       "      <td>85.715736</td>\n",
       "    </tr>\n",
       "    <tr>\n",
       "      <th>Gender</th>\n",
       "      <td>82299</td>\n",
       "      <td>92.857868</td>\n",
       "    </tr>\n",
       "    <tr>\n",
       "      <th>Income</th>\n",
       "      <td>66474</td>\n",
       "      <td>75.002539</td>\n",
       "    </tr>\n",
       "    <tr>\n",
       "      <th>Race/Ethnicity</th>\n",
       "      <td>63309</td>\n",
       "      <td>71.431473</td>\n",
       "    </tr>\n",
       "  </tbody>\n",
       "</table>\n",
       "</div>"
      ],
      "text/plain": [
       "                            Total Values null    %_weight\n",
       "Data_Value_Unit                         88629  100.000000\n",
       "Data_Value_Footnote_Symbol              79851   90.095793\n",
       "Data_Value_Footnote                     79851   90.095793\n",
       "Total                                   85464   96.428934\n",
       "Age(years)                              69639   78.573605\n",
       "Education                               75969   85.715736\n",
       "Gender                                  82299   92.857868\n",
       "Income                                  66474   75.002539\n",
       "Race/Ethnicity                          63309   71.431473"
      ]
     },
     "execution_count": 8,
     "metadata": {},
     "output_type": "execute_result"
    }
   ],
   "source": [
    "drop_na_columns = na_values.loc[na_values['%_weight'] > 50]\n",
    "drop_na_columns"
   ]
  },
  {
   "cell_type": "code",
   "execution_count": 9,
   "id": "486354f1",
   "metadata": {
    "ExecuteTime": {
     "end_time": "2023-04-03T14:21:10.541129Z",
     "start_time": "2023-04-03T14:21:10.445304Z"
    },
    "scrolled": true
   },
   "outputs": [
    {
     "data": {
      "text/plain": [
       "array(['Data_Value_Unit', 'Data_Value_Footnote_Symbol',\n",
       "       'Data_Value_Footnote', 'Total', 'Age(years)', 'Education',\n",
       "       'Gender', 'Income', 'Race/Ethnicity'], dtype=object)"
      ]
     },
     "execution_count": 9,
     "metadata": {},
     "output_type": "execute_result"
    }
   ],
   "source": [
    "drop_na_columns.index.values"
   ]
  },
  {
   "cell_type": "code",
   "execution_count": 10,
   "id": "a7e1e2e3",
   "metadata": {
    "ExecuteTime": {
     "end_time": "2023-04-03T14:21:10.680219Z",
     "start_time": "2023-04-03T14:21:10.547978Z"
    }
   },
   "outputs": [
    {
     "data": {
      "text/html": [
       "<div>\n",
       "<style scoped>\n",
       "    .dataframe tbody tr th:only-of-type {\n",
       "        vertical-align: middle;\n",
       "    }\n",
       "\n",
       "    .dataframe tbody tr th {\n",
       "        vertical-align: top;\n",
       "    }\n",
       "\n",
       "    .dataframe thead th {\n",
       "        text-align: right;\n",
       "    }\n",
       "</style>\n",
       "<table border=\"1\" class=\"dataframe\">\n",
       "  <thead>\n",
       "    <tr style=\"text-align: right;\">\n",
       "      <th></th>\n",
       "      <th>YearStart</th>\n",
       "      <th>YearEnd</th>\n",
       "      <th>LocationAbbr</th>\n",
       "      <th>LocationDesc</th>\n",
       "      <th>Datasource</th>\n",
       "      <th>Class</th>\n",
       "      <th>Topic</th>\n",
       "      <th>Question</th>\n",
       "      <th>Data_Value_Type</th>\n",
       "      <th>Data_Value</th>\n",
       "      <th>...</th>\n",
       "      <th>GeoLocation</th>\n",
       "      <th>ClassID</th>\n",
       "      <th>TopicID</th>\n",
       "      <th>QuestionID</th>\n",
       "      <th>DataValueTypeID</th>\n",
       "      <th>LocationID</th>\n",
       "      <th>StratificationCategory1</th>\n",
       "      <th>Stratification1</th>\n",
       "      <th>StratificationCategoryId1</th>\n",
       "      <th>StratificationID1</th>\n",
       "    </tr>\n",
       "  </thead>\n",
       "  <tbody>\n",
       "    <tr>\n",
       "      <th>0</th>\n",
       "      <td>2020</td>\n",
       "      <td>2020</td>\n",
       "      <td>US</td>\n",
       "      <td>National</td>\n",
       "      <td>Behavioral Risk Factor Surveillance System</td>\n",
       "      <td>Physical Activity</td>\n",
       "      <td>Physical Activity - Behavior</td>\n",
       "      <td>Percent of adults who engage in no leisure-tim...</td>\n",
       "      <td>Value</td>\n",
       "      <td>30.6</td>\n",
       "      <td>...</td>\n",
       "      <td>NaN</td>\n",
       "      <td>PA</td>\n",
       "      <td>PA1</td>\n",
       "      <td>Q047</td>\n",
       "      <td>VALUE</td>\n",
       "      <td>59</td>\n",
       "      <td>Race/Ethnicity</td>\n",
       "      <td>Hispanic</td>\n",
       "      <td>RACE</td>\n",
       "      <td>RACEHIS</td>\n",
       "    </tr>\n",
       "    <tr>\n",
       "      <th>1</th>\n",
       "      <td>2014</td>\n",
       "      <td>2014</td>\n",
       "      <td>GU</td>\n",
       "      <td>Guam</td>\n",
       "      <td>Behavioral Risk Factor Surveillance System</td>\n",
       "      <td>Obesity / Weight Status</td>\n",
       "      <td>Obesity / Weight Status</td>\n",
       "      <td>Percent of adults aged 18 years and older who ...</td>\n",
       "      <td>Value</td>\n",
       "      <td>29.3</td>\n",
       "      <td>...</td>\n",
       "      <td>(13.444304, 144.793731)</td>\n",
       "      <td>OWS</td>\n",
       "      <td>OWS1</td>\n",
       "      <td>Q036</td>\n",
       "      <td>VALUE</td>\n",
       "      <td>66</td>\n",
       "      <td>Education</td>\n",
       "      <td>High school graduate</td>\n",
       "      <td>EDU</td>\n",
       "      <td>EDUHSGRAD</td>\n",
       "    </tr>\n",
       "  </tbody>\n",
       "</table>\n",
       "<p>2 rows × 24 columns</p>\n",
       "</div>"
      ],
      "text/plain": [
       "   YearStart  YearEnd LocationAbbr LocationDesc  \\\n",
       "0       2020     2020           US     National   \n",
       "1       2014     2014           GU         Guam   \n",
       "\n",
       "                                   Datasource                    Class  \\\n",
       "0  Behavioral Risk Factor Surveillance System        Physical Activity   \n",
       "1  Behavioral Risk Factor Surveillance System  Obesity / Weight Status   \n",
       "\n",
       "                          Topic  \\\n",
       "0  Physical Activity - Behavior   \n",
       "1       Obesity / Weight Status   \n",
       "\n",
       "                                            Question Data_Value_Type  \\\n",
       "0  Percent of adults who engage in no leisure-tim...           Value   \n",
       "1  Percent of adults aged 18 years and older who ...           Value   \n",
       "\n",
       "   Data_Value  ...              GeoLocation  ClassID  TopicID  QuestionID  \\\n",
       "0        30.6  ...                      NaN       PA      PA1        Q047   \n",
       "1        29.3  ...  (13.444304, 144.793731)      OWS     OWS1        Q036   \n",
       "\n",
       "  DataValueTypeID LocationID StratificationCategory1       Stratification1  \\\n",
       "0           VALUE         59          Race/Ethnicity              Hispanic   \n",
       "1           VALUE         66               Education  High school graduate   \n",
       "\n",
       "  StratificationCategoryId1  StratificationID1  \n",
       "0                      RACE            RACEHIS  \n",
       "1                       EDU          EDUHSGRAD  \n",
       "\n",
       "[2 rows x 24 columns]"
      ]
     },
     "execution_count": 10,
     "metadata": {},
     "output_type": "execute_result"
    }
   ],
   "source": [
    "data1 = data.drop(drop_na_columns.index.values, axis=1)\n",
    "data1.head(2)"
   ]
  },
  {
   "cell_type": "code",
   "execution_count": 11,
   "id": "53b79f57",
   "metadata": {
    "ExecuteTime": {
     "end_time": "2023-04-03T14:21:10.878282Z",
     "start_time": "2023-04-03T14:21:10.682480Z"
    }
   },
   "outputs": [
    {
     "data": {
      "text/plain": [
       "0"
      ]
     },
     "execution_count": 11,
     "metadata": {},
     "output_type": "execute_result"
    }
   ],
   "source": [
    "# Verify duplicated values : \n",
    "data1.duplicated().sum()"
   ]
  },
  {
   "cell_type": "markdown",
   "id": "dfcbeb77",
   "metadata": {},
   "source": [
    "The new dataframe was created in data1 for preserve the integrity about the original data in \"data\". The all values with contain null more than 50% was removed, and put a reforce check in data.info() and verify if this new dataframe was some type about duplicate data. "
   ]
  },
  {
   "cell_type": "code",
   "execution_count": 12,
   "id": "20c4cb7e",
   "metadata": {
    "ExecuteTime": {
     "end_time": "2023-04-03T14:21:10.886083Z",
     "start_time": "2023-04-03T14:21:10.879988Z"
    }
   },
   "outputs": [
    {
     "data": {
      "text/plain": [
       "0"
      ]
     },
     "execution_count": 12,
     "metadata": {},
     "output_type": "execute_result"
    }
   ],
   "source": [
    "# Check the values in columns YearsStart and YearsEnd is equal in all observed registers: \n",
    "(data1.YearStart != data1.YearEnd).sum()"
   ]
  },
  {
   "cell_type": "markdown",
   "id": "723c398b",
   "metadata": {},
   "source": [
    "How we can observe above, the columns that represent Yearstart and YearEnd have the same values, and we can union in just one column, like \"Year_ref\"."
   ]
  },
  {
   "cell_type": "code",
   "execution_count": 13,
   "id": "0b4a8731",
   "metadata": {
    "ExecuteTime": {
     "end_time": "2023-04-03T14:21:11.036272Z",
     "start_time": "2023-04-03T14:21:10.887769Z"
    }
   },
   "outputs": [],
   "source": [
    "# Transform the columns YearStart and YearEnd into one \"Year_ref\"\n",
    "data1.drop('YearEnd', axis=1, inplace=True)"
   ]
  },
  {
   "cell_type": "code",
   "execution_count": 14,
   "id": "b652d439",
   "metadata": {
    "ExecuteTime": {
     "end_time": "2023-04-03T14:21:11.118782Z",
     "start_time": "2023-04-03T14:21:11.038538Z"
    }
   },
   "outputs": [],
   "source": [
    "data1.rename(columns={'YearStart': 'Year_ref'}, inplace=True)"
   ]
  },
  {
   "cell_type": "code",
   "execution_count": 15,
   "id": "feafaae7",
   "metadata": {
    "ExecuteTime": {
     "end_time": "2023-04-03T14:21:11.238127Z",
     "start_time": "2023-04-03T14:21:11.121292Z"
    },
    "scrolled": true
   },
   "outputs": [
    {
     "data": {
      "text/html": [
       "<div>\n",
       "<style scoped>\n",
       "    .dataframe tbody tr th:only-of-type {\n",
       "        vertical-align: middle;\n",
       "    }\n",
       "\n",
       "    .dataframe tbody tr th {\n",
       "        vertical-align: top;\n",
       "    }\n",
       "\n",
       "    .dataframe thead th {\n",
       "        text-align: right;\n",
       "    }\n",
       "</style>\n",
       "<table border=\"1\" class=\"dataframe\">\n",
       "  <thead>\n",
       "    <tr style=\"text-align: right;\">\n",
       "      <th></th>\n",
       "      <th>Year_ref</th>\n",
       "      <th>LocationAbbr</th>\n",
       "      <th>LocationDesc</th>\n",
       "      <th>Datasource</th>\n",
       "      <th>Class</th>\n",
       "      <th>Topic</th>\n",
       "      <th>Question</th>\n",
       "      <th>Data_Value_Type</th>\n",
       "      <th>Data_Value</th>\n",
       "      <th>Data_Value_Alt</th>\n",
       "      <th>...</th>\n",
       "      <th>GeoLocation</th>\n",
       "      <th>ClassID</th>\n",
       "      <th>TopicID</th>\n",
       "      <th>QuestionID</th>\n",
       "      <th>DataValueTypeID</th>\n",
       "      <th>LocationID</th>\n",
       "      <th>StratificationCategory1</th>\n",
       "      <th>Stratification1</th>\n",
       "      <th>StratificationCategoryId1</th>\n",
       "      <th>StratificationID1</th>\n",
       "    </tr>\n",
       "  </thead>\n",
       "  <tbody>\n",
       "    <tr>\n",
       "      <th>0</th>\n",
       "      <td>2020</td>\n",
       "      <td>US</td>\n",
       "      <td>National</td>\n",
       "      <td>Behavioral Risk Factor Surveillance System</td>\n",
       "      <td>Physical Activity</td>\n",
       "      <td>Physical Activity - Behavior</td>\n",
       "      <td>Percent of adults who engage in no leisure-tim...</td>\n",
       "      <td>Value</td>\n",
       "      <td>30.6</td>\n",
       "      <td>30.6</td>\n",
       "      <td>...</td>\n",
       "      <td>NaN</td>\n",
       "      <td>PA</td>\n",
       "      <td>PA1</td>\n",
       "      <td>Q047</td>\n",
       "      <td>VALUE</td>\n",
       "      <td>59</td>\n",
       "      <td>Race/Ethnicity</td>\n",
       "      <td>Hispanic</td>\n",
       "      <td>RACE</td>\n",
       "      <td>RACEHIS</td>\n",
       "    </tr>\n",
       "    <tr>\n",
       "      <th>1</th>\n",
       "      <td>2014</td>\n",
       "      <td>GU</td>\n",
       "      <td>Guam</td>\n",
       "      <td>Behavioral Risk Factor Surveillance System</td>\n",
       "      <td>Obesity / Weight Status</td>\n",
       "      <td>Obesity / Weight Status</td>\n",
       "      <td>Percent of adults aged 18 years and older who ...</td>\n",
       "      <td>Value</td>\n",
       "      <td>29.3</td>\n",
       "      <td>29.3</td>\n",
       "      <td>...</td>\n",
       "      <td>(13.444304, 144.793731)</td>\n",
       "      <td>OWS</td>\n",
       "      <td>OWS1</td>\n",
       "      <td>Q036</td>\n",
       "      <td>VALUE</td>\n",
       "      <td>66</td>\n",
       "      <td>Education</td>\n",
       "      <td>High school graduate</td>\n",
       "      <td>EDU</td>\n",
       "      <td>EDUHSGRAD</td>\n",
       "    </tr>\n",
       "    <tr>\n",
       "      <th>2</th>\n",
       "      <td>2013</td>\n",
       "      <td>US</td>\n",
       "      <td>National</td>\n",
       "      <td>Behavioral Risk Factor Surveillance System</td>\n",
       "      <td>Obesity / Weight Status</td>\n",
       "      <td>Obesity / Weight Status</td>\n",
       "      <td>Percent of adults aged 18 years and older who ...</td>\n",
       "      <td>Value</td>\n",
       "      <td>28.8</td>\n",
       "      <td>28.8</td>\n",
       "      <td>...</td>\n",
       "      <td>NaN</td>\n",
       "      <td>OWS</td>\n",
       "      <td>OWS1</td>\n",
       "      <td>Q036</td>\n",
       "      <td>VALUE</td>\n",
       "      <td>59</td>\n",
       "      <td>Income</td>\n",
       "      <td>$50,000 - $74,999</td>\n",
       "      <td>INC</td>\n",
       "      <td>INC5075</td>\n",
       "    </tr>\n",
       "    <tr>\n",
       "      <th>3</th>\n",
       "      <td>2013</td>\n",
       "      <td>US</td>\n",
       "      <td>National</td>\n",
       "      <td>Behavioral Risk Factor Surveillance System</td>\n",
       "      <td>Obesity / Weight Status</td>\n",
       "      <td>Obesity / Weight Status</td>\n",
       "      <td>Percent of adults aged 18 years and older who ...</td>\n",
       "      <td>Value</td>\n",
       "      <td>32.7</td>\n",
       "      <td>32.7</td>\n",
       "      <td>...</td>\n",
       "      <td>NaN</td>\n",
       "      <td>OWS</td>\n",
       "      <td>OWS1</td>\n",
       "      <td>Q037</td>\n",
       "      <td>VALUE</td>\n",
       "      <td>59</td>\n",
       "      <td>Income</td>\n",
       "      <td>Data not reported</td>\n",
       "      <td>INC</td>\n",
       "      <td>INCNR</td>\n",
       "    </tr>\n",
       "    <tr>\n",
       "      <th>4</th>\n",
       "      <td>2015</td>\n",
       "      <td>US</td>\n",
       "      <td>National</td>\n",
       "      <td>Behavioral Risk Factor Surveillance System</td>\n",
       "      <td>Physical Activity</td>\n",
       "      <td>Physical Activity - Behavior</td>\n",
       "      <td>Percent of adults who achieve at least 300 min...</td>\n",
       "      <td>Value</td>\n",
       "      <td>26.6</td>\n",
       "      <td>26.6</td>\n",
       "      <td>...</td>\n",
       "      <td>NaN</td>\n",
       "      <td>PA</td>\n",
       "      <td>PA1</td>\n",
       "      <td>Q045</td>\n",
       "      <td>VALUE</td>\n",
       "      <td>59</td>\n",
       "      <td>Income</td>\n",
       "      <td>Less than $15,000</td>\n",
       "      <td>INC</td>\n",
       "      <td>INCLESS15</td>\n",
       "    </tr>\n",
       "  </tbody>\n",
       "</table>\n",
       "<p>5 rows × 23 columns</p>\n",
       "</div>"
      ],
      "text/plain": [
       "   Year_ref LocationAbbr LocationDesc  \\\n",
       "0      2020           US     National   \n",
       "1      2014           GU         Guam   \n",
       "2      2013           US     National   \n",
       "3      2013           US     National   \n",
       "4      2015           US     National   \n",
       "\n",
       "                                   Datasource                    Class  \\\n",
       "0  Behavioral Risk Factor Surveillance System        Physical Activity   \n",
       "1  Behavioral Risk Factor Surveillance System  Obesity / Weight Status   \n",
       "2  Behavioral Risk Factor Surveillance System  Obesity / Weight Status   \n",
       "3  Behavioral Risk Factor Surveillance System  Obesity / Weight Status   \n",
       "4  Behavioral Risk Factor Surveillance System        Physical Activity   \n",
       "\n",
       "                          Topic  \\\n",
       "0  Physical Activity - Behavior   \n",
       "1       Obesity / Weight Status   \n",
       "2       Obesity / Weight Status   \n",
       "3       Obesity / Weight Status   \n",
       "4  Physical Activity - Behavior   \n",
       "\n",
       "                                            Question Data_Value_Type  \\\n",
       "0  Percent of adults who engage in no leisure-tim...           Value   \n",
       "1  Percent of adults aged 18 years and older who ...           Value   \n",
       "2  Percent of adults aged 18 years and older who ...           Value   \n",
       "3  Percent of adults aged 18 years and older who ...           Value   \n",
       "4  Percent of adults who achieve at least 300 min...           Value   \n",
       "\n",
       "   Data_Value  Data_Value_Alt  ...              GeoLocation  ClassID  TopicID  \\\n",
       "0        30.6            30.6  ...                      NaN       PA      PA1   \n",
       "1        29.3            29.3  ...  (13.444304, 144.793731)      OWS     OWS1   \n",
       "2        28.8            28.8  ...                      NaN      OWS     OWS1   \n",
       "3        32.7            32.7  ...                      NaN      OWS     OWS1   \n",
       "4        26.6            26.6  ...                      NaN       PA      PA1   \n",
       "\n",
       "  QuestionID DataValueTypeID LocationID StratificationCategory1  \\\n",
       "0       Q047           VALUE         59          Race/Ethnicity   \n",
       "1       Q036           VALUE         66               Education   \n",
       "2       Q036           VALUE         59                  Income   \n",
       "3       Q037           VALUE         59                  Income   \n",
       "4       Q045           VALUE         59                  Income   \n",
       "\n",
       "        Stratification1  StratificationCategoryId1 StratificationID1  \n",
       "0              Hispanic                       RACE           RACEHIS  \n",
       "1  High school graduate                        EDU         EDUHSGRAD  \n",
       "2     $50,000 - $74,999                        INC           INC5075  \n",
       "3     Data not reported                        INC             INCNR  \n",
       "4     Less than $15,000                        INC         INCLESS15  \n",
       "\n",
       "[5 rows x 23 columns]"
      ]
     },
     "execution_count": 15,
     "metadata": {},
     "output_type": "execute_result"
    }
   ],
   "source": [
    "data1.head(5)"
   ]
  },
  {
   "cell_type": "code",
   "execution_count": 16,
   "id": "8d917dd1",
   "metadata": {
    "ExecuteTime": {
     "end_time": "2023-04-03T14:21:11.550085Z",
     "start_time": "2023-04-03T14:21:11.239866Z"
    },
    "scrolled": true
   },
   "outputs": [
    {
     "name": "stdout",
     "output_type": "stream",
     "text": [
      "<class 'pandas.core.frame.DataFrame'>\n",
      "RangeIndex: 88629 entries, 0 to 88628\n",
      "Data columns (total 23 columns):\n",
      " #   Column                     Non-Null Count  Dtype  \n",
      "---  ------                     --------------  -----  \n",
      " 0   Year_ref                   88629 non-null  int64  \n",
      " 1   LocationAbbr               88629 non-null  object \n",
      " 2   LocationDesc               88629 non-null  object \n",
      " 3   Datasource                 88629 non-null  object \n",
      " 4   Class                      88629 non-null  object \n",
      " 5   Topic                      88629 non-null  object \n",
      " 6   Question                   88629 non-null  object \n",
      " 7   Data_Value_Type            88629 non-null  object \n",
      " 8   Data_Value                 79851 non-null  float64\n",
      " 9   Data_Value_Alt             79851 non-null  float64\n",
      " 10  Low_Confidence_Limit       79851 non-null  float64\n",
      " 11  High_Confidence_Limit      79851 non-null  float64\n",
      " 12  Sample_Size                79851 non-null  float64\n",
      " 13  GeoLocation                86977 non-null  object \n",
      " 14  ClassID                    88629 non-null  object \n",
      " 15  TopicID                    88629 non-null  object \n",
      " 16  QuestionID                 88629 non-null  object \n",
      " 17  DataValueTypeID            88629 non-null  object \n",
      " 18  LocationID                 88629 non-null  int64  \n",
      " 19  StratificationCategory1    88620 non-null  object \n",
      " 20  Stratification1            88620 non-null  object \n",
      " 21  StratificationCategoryId1  88620 non-null  object \n",
      " 22  StratificationID1          88620 non-null  object \n",
      "dtypes: float64(5), int64(2), object(16)\n",
      "memory usage: 15.6+ MB\n"
     ]
    }
   ],
   "source": [
    "# About dataset info: \n",
    "data1.info()"
   ]
  },
  {
   "cell_type": "code",
   "execution_count": 17,
   "id": "7b8987b3",
   "metadata": {
    "ExecuteTime": {
     "end_time": "2023-04-03T14:21:11.713626Z",
     "start_time": "2023-04-03T14:21:11.551929Z"
    }
   },
   "outputs": [
    {
     "data": {
      "text/html": [
       "<div>\n",
       "<style scoped>\n",
       "    .dataframe tbody tr th:only-of-type {\n",
       "        vertical-align: middle;\n",
       "    }\n",
       "\n",
       "    .dataframe tbody tr th {\n",
       "        vertical-align: top;\n",
       "    }\n",
       "\n",
       "    .dataframe thead th {\n",
       "        text-align: right;\n",
       "    }\n",
       "</style>\n",
       "<table border=\"1\" class=\"dataframe\">\n",
       "  <thead>\n",
       "    <tr style=\"text-align: right;\">\n",
       "      <th></th>\n",
       "      <th>Year_ref</th>\n",
       "      <th>Data_Value</th>\n",
       "      <th>Data_Value_Alt</th>\n",
       "      <th>Low_Confidence_Limit</th>\n",
       "      <th>High_Confidence_Limit</th>\n",
       "      <th>Sample_Size</th>\n",
       "      <th>LocationID</th>\n",
       "    </tr>\n",
       "  </thead>\n",
       "  <tbody>\n",
       "    <tr>\n",
       "      <th>count</th>\n",
       "      <td>88629.000000</td>\n",
       "      <td>79851.000000</td>\n",
       "      <td>79851.000000</td>\n",
       "      <td>79851.000000</td>\n",
       "      <td>79851.000000</td>\n",
       "      <td>79851.000000</td>\n",
       "      <td>88629.000000</td>\n",
       "    </tr>\n",
       "    <tr>\n",
       "      <th>mean</th>\n",
       "      <td>2016.011362</td>\n",
       "      <td>31.236493</td>\n",
       "      <td>31.236493</td>\n",
       "      <td>26.907732</td>\n",
       "      <td>36.135953</td>\n",
       "      <td>3656.809044</td>\n",
       "      <td>30.906475</td>\n",
       "    </tr>\n",
       "    <tr>\n",
       "      <th>std</th>\n",
       "      <td>3.121080</td>\n",
       "      <td>10.113829</td>\n",
       "      <td>10.113829</td>\n",
       "      <td>9.907896</td>\n",
       "      <td>11.061591</td>\n",
       "      <td>18706.392637</td>\n",
       "      <td>17.485456</td>\n",
       "    </tr>\n",
       "    <tr>\n",
       "      <th>min</th>\n",
       "      <td>2011.000000</td>\n",
       "      <td>0.900000</td>\n",
       "      <td>0.900000</td>\n",
       "      <td>0.300000</td>\n",
       "      <td>3.000000</td>\n",
       "      <td>50.000000</td>\n",
       "      <td>1.000000</td>\n",
       "    </tr>\n",
       "    <tr>\n",
       "      <th>25%</th>\n",
       "      <td>2013.000000</td>\n",
       "      <td>24.300000</td>\n",
       "      <td>24.300000</td>\n",
       "      <td>20.000000</td>\n",
       "      <td>28.600000</td>\n",
       "      <td>516.000000</td>\n",
       "      <td>17.000000</td>\n",
       "    </tr>\n",
       "    <tr>\n",
       "      <th>50%</th>\n",
       "      <td>2016.000000</td>\n",
       "      <td>31.200000</td>\n",
       "      <td>31.200000</td>\n",
       "      <td>26.800000</td>\n",
       "      <td>35.900000</td>\n",
       "      <td>1109.000000</td>\n",
       "      <td>30.000000</td>\n",
       "    </tr>\n",
       "    <tr>\n",
       "      <th>75%</th>\n",
       "      <td>2019.000000</td>\n",
       "      <td>37.000000</td>\n",
       "      <td>37.000000</td>\n",
       "      <td>32.900000</td>\n",
       "      <td>42.200000</td>\n",
       "      <td>2408.000000</td>\n",
       "      <td>45.000000</td>\n",
       "    </tr>\n",
       "    <tr>\n",
       "      <th>max</th>\n",
       "      <td>2021.000000</td>\n",
       "      <td>77.600000</td>\n",
       "      <td>77.600000</td>\n",
       "      <td>70.200000</td>\n",
       "      <td>87.700000</td>\n",
       "      <td>476876.000000</td>\n",
       "      <td>78.000000</td>\n",
       "    </tr>\n",
       "  </tbody>\n",
       "</table>\n",
       "</div>"
      ],
      "text/plain": [
       "           Year_ref    Data_Value  Data_Value_Alt  Low_Confidence_Limit  \\\n",
       "count  88629.000000  79851.000000    79851.000000          79851.000000   \n",
       "mean    2016.011362     31.236493       31.236493             26.907732   \n",
       "std        3.121080     10.113829       10.113829              9.907896   \n",
       "min     2011.000000      0.900000        0.900000              0.300000   \n",
       "25%     2013.000000     24.300000       24.300000             20.000000   \n",
       "50%     2016.000000     31.200000       31.200000             26.800000   \n",
       "75%     2019.000000     37.000000       37.000000             32.900000   \n",
       "max     2021.000000     77.600000       77.600000             70.200000   \n",
       "\n",
       "       High_Confidence_Limit     Sample_Size    LocationID  \n",
       "count            79851.000000   79851.000000  88629.000000  \n",
       "mean                36.135953    3656.809044     30.906475  \n",
       "std                 11.061591   18706.392637     17.485456  \n",
       "min                  3.000000      50.000000      1.000000  \n",
       "25%                 28.600000     516.000000     17.000000  \n",
       "50%                 35.900000    1109.000000     30.000000  \n",
       "75%                 42.200000    2408.000000     45.000000  \n",
       "max                 87.700000  476876.000000     78.000000  "
      ]
     },
     "execution_count": 17,
     "metadata": {},
     "output_type": "execute_result"
    }
   ],
   "source": [
    "data1.describe()"
   ]
  },
  {
   "cell_type": "markdown",
   "id": "527d862c",
   "metadata": {},
   "source": [
    "# 2. Formulation Questions and Hypotheses"
   ]
  },
  {
   "cell_type": "markdown",
   "id": "eafeeb7a",
   "metadata": {},
   "source": [
    "Check a sample about two first line for look in all variable and yours results:\n"
   ]
  },
  {
   "cell_type": "code",
   "execution_count": 18,
   "id": "c5e623e9",
   "metadata": {
    "ExecuteTime": {
     "end_time": "2023-04-03T14:21:11.781268Z",
     "start_time": "2023-04-03T14:21:11.715283Z"
    },
    "scrolled": true
   },
   "outputs": [
    {
     "data": {
      "text/html": [
       "<div>\n",
       "<style scoped>\n",
       "    .dataframe tbody tr th:only-of-type {\n",
       "        vertical-align: middle;\n",
       "    }\n",
       "\n",
       "    .dataframe tbody tr th {\n",
       "        vertical-align: top;\n",
       "    }\n",
       "\n",
       "    .dataframe thead th {\n",
       "        text-align: right;\n",
       "    }\n",
       "</style>\n",
       "<table border=\"1\" class=\"dataframe\">\n",
       "  <thead>\n",
       "    <tr style=\"text-align: right;\">\n",
       "      <th></th>\n",
       "      <th>34555</th>\n",
       "      <th>57252</th>\n",
       "      <th>43492</th>\n",
       "      <th>32632</th>\n",
       "    </tr>\n",
       "  </thead>\n",
       "  <tbody>\n",
       "    <tr>\n",
       "      <th>Year_ref</th>\n",
       "      <td>2015</td>\n",
       "      <td>2012</td>\n",
       "      <td>2019</td>\n",
       "      <td>2017</td>\n",
       "    </tr>\n",
       "    <tr>\n",
       "      <th>LocationAbbr</th>\n",
       "      <td>DE</td>\n",
       "      <td>IA</td>\n",
       "      <td>MI</td>\n",
       "      <td>MS</td>\n",
       "    </tr>\n",
       "    <tr>\n",
       "      <th>LocationDesc</th>\n",
       "      <td>Delaware</td>\n",
       "      <td>Iowa</td>\n",
       "      <td>Michigan</td>\n",
       "      <td>Mississippi</td>\n",
       "    </tr>\n",
       "    <tr>\n",
       "      <th>Datasource</th>\n",
       "      <td>Behavioral Risk Factor Surveillance System</td>\n",
       "      <td>Behavioral Risk Factor Surveillance System</td>\n",
       "      <td>Behavioral Risk Factor Surveillance System</td>\n",
       "      <td>Behavioral Risk Factor Surveillance System</td>\n",
       "    </tr>\n",
       "    <tr>\n",
       "      <th>Class</th>\n",
       "      <td>Physical Activity</td>\n",
       "      <td>Obesity / Weight Status</td>\n",
       "      <td>Physical Activity</td>\n",
       "      <td>Obesity / Weight Status</td>\n",
       "    </tr>\n",
       "    <tr>\n",
       "      <th>Topic</th>\n",
       "      <td>Physical Activity - Behavior</td>\n",
       "      <td>Obesity / Weight Status</td>\n",
       "      <td>Physical Activity - Behavior</td>\n",
       "      <td>Obesity / Weight Status</td>\n",
       "    </tr>\n",
       "    <tr>\n",
       "      <th>Question</th>\n",
       "      <td>Percent of adults who achieve at least 150 min...</td>\n",
       "      <td>Percent of adults aged 18 years and older who ...</td>\n",
       "      <td>Percent of adults who achieve at least 300 min...</td>\n",
       "      <td>Percent of adults aged 18 years and older who ...</td>\n",
       "    </tr>\n",
       "    <tr>\n",
       "      <th>Data_Value_Type</th>\n",
       "      <td>Value</td>\n",
       "      <td>Value</td>\n",
       "      <td>Value</td>\n",
       "      <td>Value</td>\n",
       "    </tr>\n",
       "    <tr>\n",
       "      <th>Data_Value</th>\n",
       "      <td>28.1</td>\n",
       "      <td>29.6</td>\n",
       "      <td>34.9</td>\n",
       "      <td>31.0</td>\n",
       "    </tr>\n",
       "    <tr>\n",
       "      <th>Data_Value_Alt</th>\n",
       "      <td>28.1</td>\n",
       "      <td>29.6</td>\n",
       "      <td>34.9</td>\n",
       "      <td>31.0</td>\n",
       "    </tr>\n",
       "    <tr>\n",
       "      <th>Low_Confidence_Limit</th>\n",
       "      <td>24.5</td>\n",
       "      <td>27.5</td>\n",
       "      <td>33.5</td>\n",
       "      <td>27.5</td>\n",
       "    </tr>\n",
       "    <tr>\n",
       "      <th>High_Confidence_Limit</th>\n",
       "      <td>32.1</td>\n",
       "      <td>31.7</td>\n",
       "      <td>36.3</td>\n",
       "      <td>34.8</td>\n",
       "    </tr>\n",
       "    <tr>\n",
       "      <th>Sample_Size</th>\n",
       "      <td>969.0</td>\n",
       "      <td>2395.0</td>\n",
       "      <td>7936.0</td>\n",
       "      <td>1379.0</td>\n",
       "    </tr>\n",
       "    <tr>\n",
       "      <th>GeoLocation</th>\n",
       "      <td>(39.008830667, -75.577741168)</td>\n",
       "      <td>(42.469400913, -93.816490556)</td>\n",
       "      <td>(44.6613195430005, -84.71439026999968)</td>\n",
       "      <td>(32.745510099, -89.538030825)</td>\n",
       "    </tr>\n",
       "    <tr>\n",
       "      <th>ClassID</th>\n",
       "      <td>PA</td>\n",
       "      <td>OWS</td>\n",
       "      <td>PA</td>\n",
       "      <td>OWS</td>\n",
       "    </tr>\n",
       "    <tr>\n",
       "      <th>TopicID</th>\n",
       "      <td>PA1</td>\n",
       "      <td>OWS1</td>\n",
       "      <td>PA1</td>\n",
       "      <td>OWS1</td>\n",
       "    </tr>\n",
       "    <tr>\n",
       "      <th>QuestionID</th>\n",
       "      <td>Q044</td>\n",
       "      <td>Q036</td>\n",
       "      <td>Q045</td>\n",
       "      <td>Q037</td>\n",
       "    </tr>\n",
       "    <tr>\n",
       "      <th>DataValueTypeID</th>\n",
       "      <td>VALUE</td>\n",
       "      <td>VALUE</td>\n",
       "      <td>VALUE</td>\n",
       "      <td>VALUE</td>\n",
       "    </tr>\n",
       "    <tr>\n",
       "      <th>LocationID</th>\n",
       "      <td>10</td>\n",
       "      <td>19</td>\n",
       "      <td>26</td>\n",
       "      <td>28</td>\n",
       "    </tr>\n",
       "    <tr>\n",
       "      <th>StratificationCategory1</th>\n",
       "      <td>Income</td>\n",
       "      <td>Age (years)</td>\n",
       "      <td>Race/Ethnicity</td>\n",
       "      <td>Education</td>\n",
       "    </tr>\n",
       "    <tr>\n",
       "      <th>Stratification1</th>\n",
       "      <td>$75,000 or greater</td>\n",
       "      <td>65 or older</td>\n",
       "      <td>Non-Hispanic White</td>\n",
       "      <td>High school graduate</td>\n",
       "    </tr>\n",
       "    <tr>\n",
       "      <th>StratificationCategoryId1</th>\n",
       "      <td>INC</td>\n",
       "      <td>AGEYR</td>\n",
       "      <td>RACE</td>\n",
       "      <td>EDU</td>\n",
       "    </tr>\n",
       "    <tr>\n",
       "      <th>StratificationID1</th>\n",
       "      <td>INC75PLUS</td>\n",
       "      <td>AGEYR65PLUS</td>\n",
       "      <td>RACEWHT</td>\n",
       "      <td>EDUHSGRAD</td>\n",
       "    </tr>\n",
       "  </tbody>\n",
       "</table>\n",
       "</div>"
      ],
      "text/plain": [
       "                                                                       34555  \\\n",
       "Year_ref                                                                2015   \n",
       "LocationAbbr                                                              DE   \n",
       "LocationDesc                                                        Delaware   \n",
       "Datasource                        Behavioral Risk Factor Surveillance System   \n",
       "Class                                                      Physical Activity   \n",
       "Topic                                           Physical Activity - Behavior   \n",
       "Question                   Percent of adults who achieve at least 150 min...   \n",
       "Data_Value_Type                                                        Value   \n",
       "Data_Value                                                              28.1   \n",
       "Data_Value_Alt                                                          28.1   \n",
       "Low_Confidence_Limit                                                    24.5   \n",
       "High_Confidence_Limit                                                   32.1   \n",
       "Sample_Size                                                            969.0   \n",
       "GeoLocation                                    (39.008830667, -75.577741168)   \n",
       "ClassID                                                                   PA   \n",
       "TopicID                                                                  PA1   \n",
       "QuestionID                                                              Q044   \n",
       "DataValueTypeID                                                        VALUE   \n",
       "LocationID                                                                10   \n",
       "StratificationCategory1                                               Income   \n",
       "Stratification1                                           $75,000 or greater   \n",
       "StratificationCategoryId1                                                INC   \n",
       "StratificationID1                                                  INC75PLUS   \n",
       "\n",
       "                                                                       57252  \\\n",
       "Year_ref                                                                2012   \n",
       "LocationAbbr                                                              IA   \n",
       "LocationDesc                                                            Iowa   \n",
       "Datasource                        Behavioral Risk Factor Surveillance System   \n",
       "Class                                                Obesity / Weight Status   \n",
       "Topic                                                Obesity / Weight Status   \n",
       "Question                   Percent of adults aged 18 years and older who ...   \n",
       "Data_Value_Type                                                        Value   \n",
       "Data_Value                                                              29.6   \n",
       "Data_Value_Alt                                                          29.6   \n",
       "Low_Confidence_Limit                                                    27.5   \n",
       "High_Confidence_Limit                                                   31.7   \n",
       "Sample_Size                                                           2395.0   \n",
       "GeoLocation                                    (42.469400913, -93.816490556)   \n",
       "ClassID                                                                  OWS   \n",
       "TopicID                                                                 OWS1   \n",
       "QuestionID                                                              Q036   \n",
       "DataValueTypeID                                                        VALUE   \n",
       "LocationID                                                                19   \n",
       "StratificationCategory1                                          Age (years)   \n",
       "Stratification1                                                  65 or older   \n",
       "StratificationCategoryId1                                              AGEYR   \n",
       "StratificationID1                                                AGEYR65PLUS   \n",
       "\n",
       "                                                                       43492  \\\n",
       "Year_ref                                                                2019   \n",
       "LocationAbbr                                                              MI   \n",
       "LocationDesc                                                        Michigan   \n",
       "Datasource                        Behavioral Risk Factor Surveillance System   \n",
       "Class                                                      Physical Activity   \n",
       "Topic                                           Physical Activity - Behavior   \n",
       "Question                   Percent of adults who achieve at least 300 min...   \n",
       "Data_Value_Type                                                        Value   \n",
       "Data_Value                                                              34.9   \n",
       "Data_Value_Alt                                                          34.9   \n",
       "Low_Confidence_Limit                                                    33.5   \n",
       "High_Confidence_Limit                                                   36.3   \n",
       "Sample_Size                                                           7936.0   \n",
       "GeoLocation                           (44.6613195430005, -84.71439026999968)   \n",
       "ClassID                                                                   PA   \n",
       "TopicID                                                                  PA1   \n",
       "QuestionID                                                              Q045   \n",
       "DataValueTypeID                                                        VALUE   \n",
       "LocationID                                                                26   \n",
       "StratificationCategory1                                       Race/Ethnicity   \n",
       "Stratification1                                           Non-Hispanic White   \n",
       "StratificationCategoryId1                                               RACE   \n",
       "StratificationID1                                                    RACEWHT   \n",
       "\n",
       "                                                                       32632  \n",
       "Year_ref                                                                2017  \n",
       "LocationAbbr                                                              MS  \n",
       "LocationDesc                                                     Mississippi  \n",
       "Datasource                        Behavioral Risk Factor Surveillance System  \n",
       "Class                                                Obesity / Weight Status  \n",
       "Topic                                                Obesity / Weight Status  \n",
       "Question                   Percent of adults aged 18 years and older who ...  \n",
       "Data_Value_Type                                                        Value  \n",
       "Data_Value                                                              31.0  \n",
       "Data_Value_Alt                                                          31.0  \n",
       "Low_Confidence_Limit                                                    27.5  \n",
       "High_Confidence_Limit                                                   34.8  \n",
       "Sample_Size                                                           1379.0  \n",
       "GeoLocation                                    (32.745510099, -89.538030825)  \n",
       "ClassID                                                                  OWS  \n",
       "TopicID                                                                 OWS1  \n",
       "QuestionID                                                              Q037  \n",
       "DataValueTypeID                                                        VALUE  \n",
       "LocationID                                                                28  \n",
       "StratificationCategory1                                            Education  \n",
       "Stratification1                                         High school graduate  \n",
       "StratificationCategoryId1                                                EDU  \n",
       "StratificationID1                                                  EDUHSGRAD  "
      ]
     },
     "execution_count": 18,
     "metadata": {},
     "output_type": "execute_result"
    }
   ],
   "source": [
    "data1.sample(4).T"
   ]
  },
  {
   "cell_type": "code",
   "execution_count": 19,
   "id": "f7bb5a12",
   "metadata": {
    "ExecuteTime": {
     "end_time": "2023-04-03T14:21:11.875276Z",
     "start_time": "2023-04-03T14:21:11.782977Z"
    }
   },
   "outputs": [
    {
     "data": {
      "text/plain": [
       "array([ True, False])"
      ]
     },
     "execution_count": 19,
     "metadata": {},
     "output_type": "execute_result"
    }
   ],
   "source": [
    "(data.Data_Value == data.Data_Value_Alt).unique()"
   ]
  },
  {
   "cell_type": "code",
   "execution_count": 20,
   "id": "a1d4af82",
   "metadata": {
    "ExecuteTime": {
     "end_time": "2023-04-03T14:21:11.977016Z",
     "start_time": "2023-04-03T14:21:11.876688Z"
    }
   },
   "outputs": [
    {
     "data": {
      "text/plain": [
       "array(['US', 'GU', 'WY', 'DC', 'PR', 'AL', 'RI', 'DE', 'NJ', 'WA', 'ME',\n",
       "       'MI', 'VA', 'CA', 'UT', 'NY', 'MA', 'AR', 'IL', 'NH', 'NM', 'MD',\n",
       "       'MN', 'HI', 'LA', 'SD', 'TX', 'KY', 'WV', 'CO', 'OK', 'MS', 'OR',\n",
       "       'WI', 'KS', 'FL', 'ID', 'AZ', 'VI', 'MT', 'GA', 'NC', 'PA', 'ND',\n",
       "       'SC', 'NE', 'TN', 'MO', 'NV', 'IA', 'IN', 'OH', 'AK', 'VT', 'CT'],\n",
       "      dtype=object)"
      ]
     },
     "execution_count": 20,
     "metadata": {},
     "output_type": "execute_result"
    }
   ],
   "source": [
    "data.LocationAbbr.unique()"
   ]
  },
  {
   "cell_type": "code",
   "execution_count": 21,
   "id": "12350fd6",
   "metadata": {
    "ExecuteTime": {
     "end_time": "2023-04-03T14:21:12.089102Z",
     "start_time": "2023-04-03T14:21:11.978524Z"
    }
   },
   "outputs": [
    {
     "data": {
      "text/plain": [
       "array(['Physical Activity', 'Obesity / Weight Status',\n",
       "       'Fruits and Vegetables'], dtype=object)"
      ]
     },
     "execution_count": 21,
     "metadata": {},
     "output_type": "execute_result"
    }
   ],
   "source": [
    "data.Class.unique()"
   ]
  },
  {
   "cell_type": "code",
   "execution_count": 22,
   "id": "7f3a578f",
   "metadata": {
    "ExecuteTime": {
     "end_time": "2023-04-03T14:21:12.191262Z",
     "start_time": "2023-04-03T14:21:12.091236Z"
    }
   },
   "outputs": [
    {
     "data": {
      "text/plain": [
       "array(['Physical Activity - Behavior', 'Obesity / Weight Status',\n",
       "       'Fruits and Vegetables - Behavior'], dtype=object)"
      ]
     },
     "execution_count": 22,
     "metadata": {},
     "output_type": "execute_result"
    }
   ],
   "source": [
    "data.Topic.unique()"
   ]
  },
  {
   "cell_type": "code",
   "execution_count": 23,
   "id": "d4bf0fae",
   "metadata": {
    "ExecuteTime": {
     "end_time": "2023-04-03T14:21:12.287510Z",
     "start_time": "2023-04-03T14:21:12.192775Z"
    }
   },
   "outputs": [
    {
     "data": {
      "text/plain": [
       "array(['Q047', 'Q036', 'Q037', 'Q045', 'Q044', 'Q043', 'Q046', 'Q018',\n",
       "       'Q019'], dtype=object)"
      ]
     },
     "execution_count": 23,
     "metadata": {},
     "output_type": "execute_result"
    }
   ],
   "source": [
    "data.QuestionID.unique()"
   ]
  },
  {
   "cell_type": "code",
   "execution_count": 24,
   "id": "d6cd0cfa",
   "metadata": {
    "ExecuteTime": {
     "end_time": "2023-04-03T14:21:12.406418Z",
     "start_time": "2023-04-03T14:21:12.290223Z"
    }
   },
   "outputs": [
    {
     "data": {
      "text/plain": [
       "array(['VALUE'], dtype=object)"
      ]
     },
     "execution_count": 24,
     "metadata": {},
     "output_type": "execute_result"
    }
   ],
   "source": [
    "data1.DataValueTypeID.unique()"
   ]
  },
  {
   "cell_type": "code",
   "execution_count": 25,
   "id": "889b5176",
   "metadata": {
    "ExecuteTime": {
     "end_time": "2023-04-03T14:21:12.520092Z",
     "start_time": "2023-04-03T14:21:12.408379Z"
    },
    "scrolled": true
   },
   "outputs": [
    {
     "data": {
      "text/plain": [
       "array(['Percent of adults who engage in no leisure-time physical activity',\n",
       "       'Percent of adults aged 18 years and older who have obesity',\n",
       "       'Percent of adults aged 18 years and older who have an overweight classification',\n",
       "       'Percent of adults who achieve at least 300 minutes a week of moderate-intensity aerobic physical activity or 150 minutes a week of vigorous-intensity aerobic activity (or an equivalent combination)',\n",
       "       'Percent of adults who achieve at least 150 minutes a week of moderate-intensity aerobic physical activity or 75 minutes a week of vigorous-intensity aerobic physical activity and engage in muscle-strengthening activities on 2 or more days a week',\n",
       "       'Percent of adults who achieve at least 150 minutes a week of moderate-intensity aerobic physical activity or 75 minutes a week of vigorous-intensity aerobic activity (or an equivalent combination)',\n",
       "       'Percent of adults who engage in muscle-strengthening activities on 2 or more days a week',\n",
       "       'Percent of adults who report consuming fruit less than one time daily',\n",
       "       'Percent of adults who report consuming vegetables less than one time daily'],\n",
       "      dtype=object)"
      ]
     },
     "execution_count": 25,
     "metadata": {},
     "output_type": "execute_result"
    }
   ],
   "source": [
    "data1.Question.unique()\n"
   ]
  },
  {
   "cell_type": "code",
   "execution_count": 26,
   "id": "83d57e85",
   "metadata": {
    "ExecuteTime": {
     "end_time": "2023-04-03T14:21:12.620415Z",
     "start_time": "2023-04-03T14:21:12.521821Z"
    }
   },
   "outputs": [
    {
     "data": {
      "text/plain": [
       "array([False,  True])"
      ]
     },
     "execution_count": 26,
     "metadata": {},
     "output_type": "execute_result"
    }
   ],
   "source": [
    "data1.Class.isin(data1.Topic).unique()"
   ]
  },
  {
   "cell_type": "code",
   "execution_count": 27,
   "id": "d40c50af",
   "metadata": {
    "ExecuteTime": {
     "end_time": "2023-04-03T14:21:12.717350Z",
     "start_time": "2023-04-03T14:21:12.622368Z"
    },
    "scrolled": true
   },
   "outputs": [
    {
     "data": {
      "text/plain": [
       "array(['Behavioral Risk Factor Surveillance System'], dtype=object)"
      ]
     },
     "execution_count": 27,
     "metadata": {},
     "output_type": "execute_result"
    }
   ],
   "source": [
    "data1.Datasource.unique()"
   ]
  },
  {
   "cell_type": "markdown",
   "id": "ad517f0a",
   "metadata": {},
   "source": [
    "**Some observations**: \n",
    "\n",
    "    * Column Datasource doesn't is representative for this analysis, because this represent the source about data and have just one: Behavioral Risk Factor Surveillance System. (Will be dropped)\n",
    "    * Column DataValueTypeID have just one VALUE. Doesn't is representative. (Will be dropped) "
   ]
  },
  {
   "cell_type": "markdown",
   "id": "82f023ea",
   "metadata": {},
   "source": [
    "# 2.1  What are the questions and yours code link?"
   ]
  },
  {
   "cell_type": "code",
   "execution_count": 28,
   "id": "d280a566",
   "metadata": {
    "ExecuteTime": {
     "end_time": "2023-04-03T14:21:12.815370Z",
     "start_time": "2023-04-03T14:21:12.724759Z"
    }
   },
   "outputs": [
    {
     "data": {
      "text/plain": [
       "9"
      ]
     },
     "execution_count": 28,
     "metadata": {},
     "output_type": "execute_result"
    }
   ],
   "source": [
    "data1.QuestionID.nunique()"
   ]
  },
  {
   "cell_type": "code",
   "execution_count": 29,
   "id": "f606ecdf",
   "metadata": {
    "ExecuteTime": {
     "end_time": "2023-04-03T14:21:12.934325Z",
     "start_time": "2023-04-03T14:21:12.816631Z"
    }
   },
   "outputs": [
    {
     "data": {
      "text/html": [
       "<div>\n",
       "<style scoped>\n",
       "    .dataframe tbody tr th:only-of-type {\n",
       "        vertical-align: middle;\n",
       "    }\n",
       "\n",
       "    .dataframe tbody tr th {\n",
       "        vertical-align: top;\n",
       "    }\n",
       "\n",
       "    .dataframe thead th {\n",
       "        text-align: right;\n",
       "    }\n",
       "</style>\n",
       "<table border=\"1\" class=\"dataframe\">\n",
       "  <thead>\n",
       "    <tr style=\"text-align: right;\">\n",
       "      <th></th>\n",
       "      <th>Question</th>\n",
       "      <th>QuestionID</th>\n",
       "    </tr>\n",
       "  </thead>\n",
       "  <tbody>\n",
       "    <tr>\n",
       "      <th>0</th>\n",
       "      <td>Percent of adults who engage in no leisure-tim...</td>\n",
       "      <td>Q047</td>\n",
       "    </tr>\n",
       "    <tr>\n",
       "      <th>1</th>\n",
       "      <td>Percent of adults aged 18 years and older who ...</td>\n",
       "      <td>Q036</td>\n",
       "    </tr>\n",
       "    <tr>\n",
       "      <th>2</th>\n",
       "      <td>Percent of adults aged 18 years and older who ...</td>\n",
       "      <td>Q037</td>\n",
       "    </tr>\n",
       "    <tr>\n",
       "      <th>3</th>\n",
       "      <td>Percent of adults who achieve at least 300 min...</td>\n",
       "      <td>Q045</td>\n",
       "    </tr>\n",
       "    <tr>\n",
       "      <th>4</th>\n",
       "      <td>Percent of adults who achieve at least 150 min...</td>\n",
       "      <td>Q044</td>\n",
       "    </tr>\n",
       "    <tr>\n",
       "      <th>5</th>\n",
       "      <td>Percent of adults who achieve at least 150 min...</td>\n",
       "      <td>Q043</td>\n",
       "    </tr>\n",
       "    <tr>\n",
       "      <th>6</th>\n",
       "      <td>Percent of adults who engage in muscle-strengt...</td>\n",
       "      <td>Q046</td>\n",
       "    </tr>\n",
       "    <tr>\n",
       "      <th>7</th>\n",
       "      <td>Percent of adults who report consuming fruit l...</td>\n",
       "      <td>Q018</td>\n",
       "    </tr>\n",
       "    <tr>\n",
       "      <th>8</th>\n",
       "      <td>Percent of adults who report consuming vegetab...</td>\n",
       "      <td>Q019</td>\n",
       "    </tr>\n",
       "  </tbody>\n",
       "</table>\n",
       "</div>"
      ],
      "text/plain": [
       "                                            Question QuestionID\n",
       "0  Percent of adults who engage in no leisure-tim...       Q047\n",
       "1  Percent of adults aged 18 years and older who ...       Q036\n",
       "2  Percent of adults aged 18 years and older who ...       Q037\n",
       "3  Percent of adults who achieve at least 300 min...       Q045\n",
       "4  Percent of adults who achieve at least 150 min...       Q044\n",
       "5  Percent of adults who achieve at least 150 min...       Q043\n",
       "6  Percent of adults who engage in muscle-strengt...       Q046\n",
       "7  Percent of adults who report consuming fruit l...       Q018\n",
       "8  Percent of adults who report consuming vegetab...       Q019"
      ]
     },
     "execution_count": 29,
     "metadata": {},
     "output_type": "execute_result"
    }
   ],
   "source": [
    "questions_code = data1[['Question', 'QuestionID']].drop_duplicates().reset_index(drop=True)\n",
    "questions_code"
   ]
  },
  {
   "cell_type": "markdown",
   "id": "4f148fc7",
   "metadata": {},
   "source": [
    "Print all question for visualization: "
   ]
  },
  {
   "cell_type": "code",
   "execution_count": 30,
   "id": "1dc19042",
   "metadata": {
    "ExecuteTime": {
     "end_time": "2023-04-03T14:21:13.013757Z",
     "start_time": "2023-04-03T14:21:12.935779Z"
    },
    "scrolled": true
   },
   "outputs": [
    {
     "name": "stdout",
     "output_type": "stream",
     "text": [
      "Percent of adults who engage in no leisure-time physical activity\n",
      "\n",
      "Percent of adults aged 18 years and older who have obesity\n",
      "\n",
      "Percent of adults aged 18 years and older who have an overweight classification\n",
      "\n",
      "Percent of adults who achieve at least 300 minutes a week of moderate-intensity aerobic physical activity or 150 minutes a week of vigorous-intensity aerobic activity (or an equivalent combination)\n",
      "\n",
      "Percent of adults who achieve at least 150 minutes a week of moderate-intensity aerobic physical activity or 75 minutes a week of vigorous-intensity aerobic physical activity and engage in muscle-strengthening activities on 2 or more days a week\n",
      "\n",
      "Percent of adults who achieve at least 150 minutes a week of moderate-intensity aerobic physical activity or 75 minutes a week of vigorous-intensity aerobic activity (or an equivalent combination)\n",
      "\n",
      "Percent of adults who engage in muscle-strengthening activities on 2 or more days a week\n",
      "\n",
      "Percent of adults who report consuming fruit less than one time daily\n",
      "\n",
      "Percent of adults who report consuming vegetables less than one time daily\n",
      "\n"
     ]
    }
   ],
   "source": [
    "for i in questions_code.Question.values:\n",
    "    print(i+'\\n')"
   ]
  },
  {
   "cell_type": "code",
   "execution_count": 31,
   "id": "fbcc344a",
   "metadata": {
    "ExecuteTime": {
     "end_time": "2023-04-03T14:21:13.117905Z",
     "start_time": "2023-04-03T14:21:13.016293Z"
    }
   },
   "outputs": [],
   "source": [
    "# Function to return the Question by Question ID: \n",
    "def question(ID: str) -> str:\n",
    "    return questions_code.loc[questions_code.QuestionID == ID].Question.values[0]"
   ]
  },
  {
   "cell_type": "markdown",
   "id": "c879d8c6",
   "metadata": {},
   "source": [
    "# 2.1.1 What are the most frequently question? "
   ]
  },
  {
   "cell_type": "code",
   "execution_count": 32,
   "id": "abb8df39",
   "metadata": {
    "ExecuteTime": {
     "end_time": "2023-04-03T14:21:13.290386Z",
     "start_time": "2023-04-03T14:21:13.119743Z"
    },
    "scrolled": true
   },
   "outputs": [
    {
     "data": {
      "text/plain": [
       "Q036    16577\n",
       "Q037    16577\n",
       "Q047    16549\n",
       "Q045     7449\n",
       "Q044     7449\n",
       "Q043     7449\n",
       "Q046     7449\n",
       "Q018     4565\n",
       "Q019     4565\n",
       "Name: QuestionID, dtype: int64"
      ]
     },
     "execution_count": 32,
     "metadata": {},
     "output_type": "execute_result"
    }
   ],
   "source": [
    "quest_freq = data1['QuestionID'].value_counts()\n",
    "quest_freq"
   ]
  },
  {
   "cell_type": "code",
   "execution_count": 33,
   "id": "6f6461a5",
   "metadata": {
    "ExecuteTime": {
     "end_time": "2023-04-03T14:21:13.661139Z",
     "start_time": "2023-04-03T14:21:13.292666Z"
    },
    "scrolled": false
   },
   "outputs": [
    {
     "data": {
      "text/plain": [
       "Text(0.5, 1.0, 'Frequency about questionsID')"
      ]
     },
     "execution_count": 33,
     "metadata": {},
     "output_type": "execute_result"
    },
    {
     "data": {
      "image/png": "[encoded data removed]",
      "text/plain": [
       "<Figure size 720x288 with 1 Axes>"
      ]
     },
     "metadata": {
      "needs_background": "light"
     },
     "output_type": "display_data"
    }
   ],
   "source": [
    "#plot\n",
    "plt.figure(figsize=(10,4))\n",
    "sns.barplot(x=quest_freq.index, y = quest_freq.values)\n",
    "plt.xlabel('QuestionsID')\n",
    "plt.ylabel('Freq')\n",
    "plt.title('Frequency about questionsID')"
   ]
  },
  {
   "cell_type": "markdown",
   "id": "f3bf2b7f",
   "metadata": {},
   "source": [
    "* The most questions frequencies are _Q036_, _Q037_ and Q047.\n",
    "\n",
    "    `Q036` - *'Percent of adults aged 18 years and older who have obesity'*.\n",
    "    \n",
    "    `Q037` - *'Percent of adults aged 18 years and older who have an overweight classification'*.\n",
    "    \n",
    "    `Q047` - *'Percent of adults who engage in no leisure-time physical activity'*.\n",
    "    \n",
    "* The less frequencies are: \n",
    "\n",
    "    `Q018` - *'Percent of adults who report consuming vegetables less than one time daily'*\n",
    "    \n",
    "    `Q019` - *'Percent of adults who report consuming fruit less than one time daily'*\n",
    "\n",
    "    "
   ]
  },
  {
   "cell_type": "code",
   "execution_count": 34,
   "id": "8d81ee80",
   "metadata": {
    "ExecuteTime": {
     "end_time": "2023-04-03T14:21:13.667994Z",
     "start_time": "2023-04-03T14:21:13.662466Z"
    }
   },
   "outputs": [
    {
     "data": {
      "text/plain": [
       "'Percent of adults aged 18 years and older who have obesity'"
      ]
     },
     "execution_count": 34,
     "metadata": {},
     "output_type": "execute_result"
    }
   ],
   "source": [
    "question('Q036')"
   ]
  },
  {
   "cell_type": "markdown",
   "id": "f02ad5ee",
   "metadata": {},
   "source": [
    "# 2.1.2 What are the distributions about Data_Values for this QuestionIDs"
   ]
  },
  {
   "cell_type": "code",
   "execution_count": 35,
   "id": "41962060",
   "metadata": {
    "ExecuteTime": {
     "end_time": "2023-04-03T14:21:15.772644Z",
     "start_time": "2023-04-03T14:21:13.669246Z"
    },
    "scrolled": true
   },
   "outputs": [
    {
     "data": {
      "text/plain": [
       "Text(0.5, 1.0, 'QuestionID: Q019')"
      ]
     },
     "execution_count": 35,
     "metadata": {},
     "output_type": "execute_result"
    },
    {
     "data": {
      "image/png": "[encoded data removed]",
      "text/plain": [
       "<Figure size 1080x720 with 6 Axes>"
      ]
     },
     "metadata": {
      "needs_background": "light"
     },
     "output_type": "display_data"
    }
   ],
   "source": [
    "f, axe = plt.subplots(2,3, figsize=(15, 10))\n",
    "sns.histplot(data1.loc[data1.QuestionID == 'Q036'],\n",
    "             x='Data_Value', ax=axe[0,0])\n",
    "axe[0,0].set_title('QuestionID: Q036')\n",
    "sns.histplot(data1.loc[data1.QuestionID == 'Q037'],\n",
    "             x='Data_Value', ax=axe[0,1])\n",
    "axe[0,1].set_title('QuestionID: Q037')\n",
    "sns.histplot(data1.loc[data1.QuestionID == 'Q047'],\n",
    "             x='Data_Value', ax=axe[0,2])\n",
    "axe[0,2].set_title('QuestionID: Q047')\n",
    "sns.histplot(data1.loc[data1.QuestionID == 'Q018'],\n",
    "             x='Data_Value', ax=axe[1,0])\n",
    "axe[1,0].set_title('QuestionID: Q018')\n",
    "sns.histplot(data1.loc[data1.QuestionID == 'Q019'],\n",
    "             x='Data_Value', ax=axe[1,1])\n",
    "axe[1,1].set_title('QuestionID: Q019')"
   ]
  },
  {
   "cell_type": "code",
   "execution_count": null,
   "id": "e734db7f",
   "metadata": {},
   "outputs": [],
   "source": []
  },
  {
   "cell_type": "markdown",
   "id": "b7eebe7a",
   "metadata": {},
   "source": [
    "**Observations**\n",
    "\n",
    "Probably all the values about questions follow the normal distribution. For confirm this hypothese, we'll apply the Shapiro-Wilk test.\n",
    "\n",
    "    H0: the distribuition are normal.\n",
    "    \n",
    "For columns with contain na value yet, we fill this for respective mean value."
   ]
  },
  {
   "cell_type": "code",
   "execution_count": 36,
   "id": "f44f2e43",
   "metadata": {
    "ExecuteTime": {
     "end_time": "2023-04-03T14:21:15.783192Z",
     "start_time": "2023-04-03T14:21:15.775539Z"
    }
   },
   "outputs": [],
   "source": [
    "def test_Data_value_normal(ID:str):\n",
    "    values = (\n",
    "            data1.loc[data1.QuestionID == ID].\n",
    "            Data_Value.\n",
    "            fillna(data1.loc[data1.QuestionID == ID].\n",
    "            Data_Value.mean()).\n",
    "            values\n",
    "         )\n",
    "    statistic, p_value = stats.shapiro(np.random.choice(values, size=5000))\n",
    "    print('Statistic:', statistic)\n",
    "    print('p-value:', p_value) "
   ]
  },
  {
   "cell_type": "code",
   "execution_count": 37,
   "id": "95429bd0",
   "metadata": {
    "ExecuteTime": {
     "end_time": "2023-04-03T14:21:16.012306Z",
     "start_time": "2023-04-03T14:21:15.785004Z"
    },
    "scrolled": true
   },
   "outputs": [
    {
     "name": "stdout",
     "output_type": "stream",
     "text": [
      "Test for: Q036\n",
      "Statistic: 0.9664239883422852\n",
      "p-value: 1.2840433195338577e-32\n",
      "\n",
      "\n",
      "Test for: Q037\n",
      "Statistic: 0.9719464182853699\n",
      "p-value: 3.171002276032435e-30\n",
      "\n",
      "\n",
      "Test for: Q046\n",
      "Statistic: 0.9850428104400635\n",
      "p-value: 1.3210017332051186e-22\n",
      "\n",
      "\n",
      "Test for: Q018\n",
      "Statistic: 0.991569459438324\n",
      "p-value: 1.1140260702094303e-16\n",
      "\n",
      "\n",
      "Test for: Q019\n",
      "Statistic: 0.9327815175056458\n",
      "p-value: 9.234556879900544e-43\n",
      "\n",
      "\n"
     ]
    }
   ],
   "source": [
    "main_questions = ['Q036', 'Q037', 'Q046', 'Q018', 'Q019']\n",
    "for test in main_questions:\n",
    "    print('Test for:', test)\n",
    "    test_Data_value_normal(test)\n",
    "    print('\\n')"
   ]
  },
  {
   "cell_type": "markdown",
   "id": "4c19c8d7",
   "metadata": {},
   "source": [
    "Therefore, how to show above, we fail to reject H0. Probably all distributions is a normal. "
   ]
  },
  {
   "cell_type": "markdown",
   "id": "09fed762",
   "metadata": {},
   "source": [
    "Verify the outilers:"
   ]
  },
  {
   "cell_type": "code",
   "execution_count": 38,
   "id": "b7d05f86",
   "metadata": {
    "ExecuteTime": {
     "end_time": "2023-04-03T14:21:16.037005Z",
     "start_time": "2023-04-03T14:21:16.013758Z"
    }
   },
   "outputs": [],
   "source": [
    "# Function for plot and visualize outliers\n",
    "def plot_outlier(ID: str):\n",
    "    # get data with the ID reference: \n",
    "    df = pd.DataFrame(\n",
    "        (\n",
    "            data1.loc[data1.QuestionID ==ID].\n",
    "            Data_Value.\n",
    "            fillna(data1.loc[data1.QuestionID ==ID].Data_Value.mean()).\n",
    "            values\n",
    "        ), columns=['Value'])\n",
    "\n",
    "    # get summary statistics of the data\n",
    "    summary = df.describe()\n",
    "\n",
    "    # calculate the interquartile range (IQR)\n",
    "    Q1 = summary.loc['25%','Value']\n",
    "    Q3 = summary.loc['75%','Value']\n",
    "    IQR = Q3 - Q1\n",
    "\n",
    "    # identify outlier values\n",
    "    lower_bound = Q1 - 1.5 * IQR\n",
    "    upper_bound = Q3 + 1.5 * IQR\n",
    "    outliers2 = df[(df['Value'] < lower_bound) | (df['Value'] > upper_bound)]\n",
    "\n",
    "    # Plot the outlier values\n",
    "    fig, ax = plt.subplots()\n",
    "    ax.scatter(x= range(len(df)), y=df.Value)\n",
    "    ax.scatter(x= outliers2.index.values, y=df.iloc[outliers2.index.values,:].Value.values)\n",
    "    ax.set_title(ID)\n",
    "    ax.set_ylabel('Value')\n",
    "    ax.set_xlabel('index')\n",
    "    plt.show()"
   ]
  },
  {
   "cell_type": "code",
   "execution_count": 39,
   "id": "d9f3ab0d",
   "metadata": {
    "ExecuteTime": {
     "end_time": "2023-04-03T14:21:17.218201Z",
     "start_time": "2023-04-03T14:21:16.039025Z"
    },
    "scrolled": true
   },
   "outputs": [
    {
     "data": {
      "image/png": "[encoded data removed]",
      "text/plain": [
       "<Figure size 432x288 with 1 Axes>"
      ]
     },
     "metadata": {
      "needs_background": "light"
     },
     "output_type": "display_data"
    },
    {
     "data": {
      "image/png": "[encoded data removed]",
      "text/plain": [
       "<Figure size 432x288 with 1 Axes>"
      ]
     },
     "metadata": {
      "needs_background": "light"
     },
     "output_type": "display_data"
    },
    {
     "data": {
      "image/png": "[encoded data removed]",
      "text/plain": [
       "<Figure size 432x288 with 1 Axes>"
      ]
     },
     "metadata": {
      "needs_background": "light"
     },
     "output_type": "display_data"
    },
    {
     "data": {
      "image/png": "[encoded data removed]",
      "text/plain": [
       "<Figure size 432x288 with 1 Axes>"
      ]
     },
     "metadata": {
      "needs_background": "light"
     },
     "output_type": "display_data"
    },
    {
     "data": {
      "image/png": "[encoded data removed]",
      "text/plain": [
       "<Figure size 432x288 with 1 Axes>"
      ]
     },
     "metadata": {
      "needs_background": "light"
     },
     "output_type": "display_data"
    }
   ],
   "source": [
    "# Plot all outilers for the variables: \n",
    "plot_outlier('Q036')\n",
    "plot_outlier('Q037')\n",
    "plot_outlier('Q047')\n",
    "plot_outlier('Q019')\n",
    "plot_outlier('Q018')"
   ]
  },
  {
   "cell_type": "code",
   "execution_count": null,
   "id": "c1256b65",
   "metadata": {},
   "outputs": [],
   "source": []
  },
  {
   "cell_type": "markdown",
   "id": "fe1779e9",
   "metadata": {},
   "source": [
    "# 2.2 - What are the top 10 higher percent of adults aged 18 years and older who have obesity and what is your location by year reference?\n",
    "\n",
    "- QuestionID = Q036"
   ]
  },
  {
   "cell_type": "code",
   "execution_count": 40,
   "id": "f16c15ee",
   "metadata": {
    "ExecuteTime": {
     "end_time": "2023-04-03T14:21:17.225046Z",
     "start_time": "2023-04-03T14:21:17.220172Z"
    },
    "scrolled": true
   },
   "outputs": [
    {
     "data": {
      "text/plain": [
       "'Percent of adults aged 18 years and older who have obesity'"
      ]
     },
     "execution_count": 40,
     "metadata": {},
     "output_type": "execute_result"
    }
   ],
   "source": [
    "question('Q036')"
   ]
  },
  {
   "cell_type": "code",
   "execution_count": 41,
   "id": "da34a379",
   "metadata": {
    "ExecuteTime": {
     "end_time": "2023-04-03T14:21:17.388206Z",
     "start_time": "2023-04-03T14:21:17.226564Z"
    }
   },
   "outputs": [],
   "source": [
    "subset_Q036 = data1.loc[data1.QuestionID=='Q036'].copy()\n",
    "top_10_obesity = subset_Q036.sort_values('Data_Value', ascending=False).reset_index(drop=True).head(10)"
   ]
  },
  {
   "cell_type": "code",
   "execution_count": 42,
   "id": "7504de5e",
   "metadata": {
    "ExecuteTime": {
     "end_time": "2023-04-03T14:21:17.476311Z",
     "start_time": "2023-04-03T14:21:17.389462Z"
    }
   },
   "outputs": [],
   "source": [
    "top_10_obesity_byYear = top_10_obesity[['Year_ref', 'LocationAbbr','LocationDesc','Data_Value']].sort_values('Year_ref').reset_index(drop=True)"
   ]
  },
  {
   "cell_type": "code",
   "execution_count": 43,
   "id": "25fea0c7",
   "metadata": {
    "ExecuteTime": {
     "end_time": "2023-04-03T14:21:17.639676Z",
     "start_time": "2023-04-03T14:21:17.478827Z"
    }
   },
   "outputs": [
    {
     "data": {
      "text/html": [
       "<div>\n",
       "<style scoped>\n",
       "    .dataframe tbody tr th:only-of-type {\n",
       "        vertical-align: middle;\n",
       "    }\n",
       "\n",
       "    .dataframe tbody tr th {\n",
       "        vertical-align: top;\n",
       "    }\n",
       "\n",
       "    .dataframe thead th {\n",
       "        text-align: right;\n",
       "    }\n",
       "</style>\n",
       "<table border=\"1\" class=\"dataframe\">\n",
       "  <thead>\n",
       "    <tr style=\"text-align: right;\">\n",
       "      <th></th>\n",
       "      <th>Year_ref</th>\n",
       "      <th>LocationAbbr</th>\n",
       "      <th>LocationDesc</th>\n",
       "      <th>Data_Value</th>\n",
       "      <th>Sample_Size</th>\n",
       "    </tr>\n",
       "  </thead>\n",
       "  <tbody>\n",
       "    <tr>\n",
       "      <th>0</th>\n",
       "      <td>2016</td>\n",
       "      <td>OH</td>\n",
       "      <td>Ohio</td>\n",
       "      <td>60.4</td>\n",
       "      <td>94.0</td>\n",
       "    </tr>\n",
       "    <tr>\n",
       "      <th>1</th>\n",
       "      <td>2021</td>\n",
       "      <td>VI</td>\n",
       "      <td>Virgin Islands</td>\n",
       "      <td>59.7</td>\n",
       "      <td>238.0</td>\n",
       "    </tr>\n",
       "    <tr>\n",
       "      <th>2</th>\n",
       "      <td>2011</td>\n",
       "      <td>NV</td>\n",
       "      <td>Nevada</td>\n",
       "      <td>59.2</td>\n",
       "      <td>55.0</td>\n",
       "    </tr>\n",
       "    <tr>\n",
       "      <th>3</th>\n",
       "      <td>2018</td>\n",
       "      <td>NC</td>\n",
       "      <td>North Carolina</td>\n",
       "      <td>58.6</td>\n",
       "      <td>82.0</td>\n",
       "    </tr>\n",
       "    <tr>\n",
       "      <th>4</th>\n",
       "      <td>2019</td>\n",
       "      <td>AZ</td>\n",
       "      <td>Arizona</td>\n",
       "      <td>58.0</td>\n",
       "      <td>555.0</td>\n",
       "    </tr>\n",
       "    <tr>\n",
       "      <th>5</th>\n",
       "      <td>2019</td>\n",
       "      <td>ND</td>\n",
       "      <td>North Dakota</td>\n",
       "      <td>57.8</td>\n",
       "      <td>181.0</td>\n",
       "    </tr>\n",
       "    <tr>\n",
       "      <th>6</th>\n",
       "      <td>2018</td>\n",
       "      <td>IN</td>\n",
       "      <td>Indiana</td>\n",
       "      <td>57.0</td>\n",
       "      <td>54.0</td>\n",
       "    </tr>\n",
       "    <tr>\n",
       "      <th>7</th>\n",
       "      <td>2014</td>\n",
       "      <td>WI</td>\n",
       "      <td>Wisconsin</td>\n",
       "      <td>56.9</td>\n",
       "      <td>96.0</td>\n",
       "    </tr>\n",
       "    <tr>\n",
       "      <th>8</th>\n",
       "      <td>2021</td>\n",
       "      <td>VI</td>\n",
       "      <td>Virgin Islands</td>\n",
       "      <td>56.9</td>\n",
       "      <td>101.0</td>\n",
       "    </tr>\n",
       "    <tr>\n",
       "      <th>9</th>\n",
       "      <td>2015</td>\n",
       "      <td>UT</td>\n",
       "      <td>Utah</td>\n",
       "      <td>56.5</td>\n",
       "      <td>50.0</td>\n",
       "    </tr>\n",
       "  </tbody>\n",
       "</table>\n",
       "</div>"
      ],
      "text/plain": [
       "   Year_ref LocationAbbr    LocationDesc  Data_Value  Sample_Size\n",
       "0      2016           OH            Ohio        60.4         94.0\n",
       "1      2021           VI  Virgin Islands        59.7        238.0\n",
       "2      2011           NV          Nevada        59.2         55.0\n",
       "3      2018           NC  North Carolina        58.6         82.0\n",
       "4      2019           AZ         Arizona        58.0        555.0\n",
       "5      2019           ND    North Dakota        57.8        181.0\n",
       "6      2018           IN         Indiana        57.0         54.0\n",
       "7      2014           WI       Wisconsin        56.9         96.0\n",
       "8      2021           VI  Virgin Islands        56.9        101.0\n",
       "9      2015           UT            Utah        56.5         50.0"
      ]
     },
     "execution_count": 43,
     "metadata": {},
     "output_type": "execute_result"
    }
   ],
   "source": [
    "top_10_obesity[['Year_ref','LocationAbbr', 'LocationDesc', 'Data_Value','Sample_Size']]"
   ]
  },
  {
   "cell_type": "markdown",
   "id": "2fcc624c",
   "metadata": {},
   "source": [
    "**Observation:**\n",
    "    \n",
    "    - Note that the higher values for percent obesity  was 60.4 in 2016 at Ohio. "
   ]
  },
  {
   "cell_type": "code",
   "execution_count": null,
   "id": "0746805f",
   "metadata": {},
   "outputs": [],
   "source": []
  },
  {
   "cell_type": "code",
   "execution_count": 44,
   "id": "13e647a0",
   "metadata": {
    "ExecuteTime": {
     "end_time": "2023-04-03T14:21:17.750320Z",
     "start_time": "2023-04-03T14:21:17.642101Z"
    },
    "scrolled": true
   },
   "outputs": [
    {
     "data": {
      "text/html": [
       "<div>\n",
       "<style scoped>\n",
       "    .dataframe tbody tr th:only-of-type {\n",
       "        vertical-align: middle;\n",
       "    }\n",
       "\n",
       "    .dataframe tbody tr th {\n",
       "        vertical-align: top;\n",
       "    }\n",
       "\n",
       "    .dataframe thead th {\n",
       "        text-align: right;\n",
       "    }\n",
       "</style>\n",
       "<table border=\"1\" class=\"dataframe\">\n",
       "  <thead>\n",
       "    <tr style=\"text-align: right;\">\n",
       "      <th></th>\n",
       "      <th>Year_ref</th>\n",
       "      <th>LocationAbbr</th>\n",
       "      <th>Data_Value</th>\n",
       "    </tr>\n",
       "  </thead>\n",
       "  <tbody>\n",
       "    <tr>\n",
       "      <th>0</th>\n",
       "      <td>2011</td>\n",
       "      <td>NV</td>\n",
       "      <td>59.2</td>\n",
       "    </tr>\n",
       "    <tr>\n",
       "      <th>1</th>\n",
       "      <td>2014</td>\n",
       "      <td>WI</td>\n",
       "      <td>56.9</td>\n",
       "    </tr>\n",
       "    <tr>\n",
       "      <th>2</th>\n",
       "      <td>2015</td>\n",
       "      <td>UT</td>\n",
       "      <td>56.5</td>\n",
       "    </tr>\n",
       "    <tr>\n",
       "      <th>3</th>\n",
       "      <td>2016</td>\n",
       "      <td>OH</td>\n",
       "      <td>60.4</td>\n",
       "    </tr>\n",
       "    <tr>\n",
       "      <th>4</th>\n",
       "      <td>2018</td>\n",
       "      <td>IN</td>\n",
       "      <td>57.0</td>\n",
       "    </tr>\n",
       "    <tr>\n",
       "      <th>5</th>\n",
       "      <td>2018</td>\n",
       "      <td>NC</td>\n",
       "      <td>58.6</td>\n",
       "    </tr>\n",
       "    <tr>\n",
       "      <th>6</th>\n",
       "      <td>2019</td>\n",
       "      <td>AZ</td>\n",
       "      <td>58.0</td>\n",
       "    </tr>\n",
       "    <tr>\n",
       "      <th>7</th>\n",
       "      <td>2019</td>\n",
       "      <td>ND</td>\n",
       "      <td>57.8</td>\n",
       "    </tr>\n",
       "    <tr>\n",
       "      <th>8</th>\n",
       "      <td>2021</td>\n",
       "      <td>VI</td>\n",
       "      <td>58.3</td>\n",
       "    </tr>\n",
       "  </tbody>\n",
       "</table>\n",
       "</div>"
      ],
      "text/plain": [
       "   Year_ref LocationAbbr  Data_Value\n",
       "0      2011           NV        59.2\n",
       "1      2014           WI        56.9\n",
       "2      2015           UT        56.5\n",
       "3      2016           OH        60.4\n",
       "4      2018           IN        57.0\n",
       "5      2018           NC        58.6\n",
       "6      2019           AZ        58.0\n",
       "7      2019           ND        57.8\n",
       "8      2021           VI        58.3"
      ]
     },
     "execution_count": 44,
     "metadata": {},
     "output_type": "execute_result"
    }
   ],
   "source": [
    "top_10_obesity_byYear = top_10_obesity_byYear.groupby(by=['Year_ref','LocationAbbr']).agg({'Data_Value':'mean'}).reset_index()\n",
    "top_10_obesity_byYear"
   ]
  },
  {
   "cell_type": "code",
   "execution_count": 45,
   "id": "3a238df7",
   "metadata": {
    "ExecuteTime": {
     "end_time": "2023-04-03T14:21:17.856059Z",
     "start_time": "2023-04-03T14:21:17.752533Z"
    }
   },
   "outputs": [
    {
     "data": {
      "text/html": [
       "<div>\n",
       "<style scoped>\n",
       "    .dataframe tbody tr th:only-of-type {\n",
       "        vertical-align: middle;\n",
       "    }\n",
       "\n",
       "    .dataframe tbody tr th {\n",
       "        vertical-align: top;\n",
       "    }\n",
       "\n",
       "    .dataframe thead th {\n",
       "        text-align: right;\n",
       "    }\n",
       "</style>\n",
       "<table border=\"1\" class=\"dataframe\">\n",
       "  <thead>\n",
       "    <tr style=\"text-align: right;\">\n",
       "      <th></th>\n",
       "      <th>Year_ref</th>\n",
       "      <th>Data_Value</th>\n",
       "    </tr>\n",
       "  </thead>\n",
       "  <tbody>\n",
       "    <tr>\n",
       "      <th>count</th>\n",
       "      <td>9.000000</td>\n",
       "      <td>9.000000</td>\n",
       "    </tr>\n",
       "    <tr>\n",
       "      <th>mean</th>\n",
       "      <td>2016.777778</td>\n",
       "      <td>58.077778</td>\n",
       "    </tr>\n",
       "    <tr>\n",
       "      <th>std</th>\n",
       "      <td>3.073181</td>\n",
       "      <td>1.229612</td>\n",
       "    </tr>\n",
       "    <tr>\n",
       "      <th>min</th>\n",
       "      <td>2011.000000</td>\n",
       "      <td>56.500000</td>\n",
       "    </tr>\n",
       "    <tr>\n",
       "      <th>25%</th>\n",
       "      <td>2015.000000</td>\n",
       "      <td>57.000000</td>\n",
       "    </tr>\n",
       "    <tr>\n",
       "      <th>50%</th>\n",
       "      <td>2018.000000</td>\n",
       "      <td>58.000000</td>\n",
       "    </tr>\n",
       "    <tr>\n",
       "      <th>75%</th>\n",
       "      <td>2019.000000</td>\n",
       "      <td>58.600000</td>\n",
       "    </tr>\n",
       "    <tr>\n",
       "      <th>max</th>\n",
       "      <td>2021.000000</td>\n",
       "      <td>60.400000</td>\n",
       "    </tr>\n",
       "  </tbody>\n",
       "</table>\n",
       "</div>"
      ],
      "text/plain": [
       "          Year_ref  Data_Value\n",
       "count     9.000000    9.000000\n",
       "mean   2016.777778   58.077778\n",
       "std       3.073181    1.229612\n",
       "min    2011.000000   56.500000\n",
       "25%    2015.000000   57.000000\n",
       "50%    2018.000000   58.000000\n",
       "75%    2019.000000   58.600000\n",
       "max    2021.000000   60.400000"
      ]
     },
     "execution_count": 45,
     "metadata": {},
     "output_type": "execute_result"
    }
   ],
   "source": [
    "top_10_obesity_byYear.describe()"
   ]
  },
  {
   "cell_type": "code",
   "execution_count": 46,
   "id": "0b384df7",
   "metadata": {
    "ExecuteTime": {
     "end_time": "2023-04-03T14:21:17.950551Z",
     "start_time": "2023-04-03T14:21:17.858434Z"
    }
   },
   "outputs": [
    {
     "data": {
      "text/plain": [
       "array(['NV', 'WI', 'UT', 'OH', 'IN', 'NC', 'AZ', 'ND', 'VI'], dtype=object)"
      ]
     },
     "execution_count": 46,
     "metadata": {},
     "output_type": "execute_result"
    }
   ],
   "source": [
    "top_10_obesity_byYear.LocationAbbr.values"
   ]
  },
  {
   "cell_type": "markdown",
   "id": "88dd0792",
   "metadata": {},
   "source": [
    "# 2.3 What are the percent obesity evolution by year and state? \n",
    "\n",
    "- QuestionID = Q036;\n",
    "\n",
    "- For put a answer for this topic, we will create a function for link the preference select state"
   ]
  },
  {
   "cell_type": "code",
   "execution_count": 47,
   "id": "ea7ecba7",
   "metadata": {
    "ExecuteTime": {
     "end_time": "2023-04-03T14:21:18.049140Z",
     "start_time": "2023-04-03T14:21:17.952628Z"
    }
   },
   "outputs": [],
   "source": [
    "# Function for groupby by year by state and QuestionID\n",
    "def select_state_evolution(stateID: list, ID: str):\n",
    "    \"\"\"\n",
    "    Selects and groups state-level data from a pandas DataFrame based on a list of state IDs and a specific question ID.\n",
    "\n",
    "    Args:\n",
    "    - stateID (list): A list of state abbreviations to select data from. Must match the values in the 'LocationAbbr' column of the input DataFrame.\n",
    "    - ID (str): A string representing the question ID to select data for. Must match the values in the 'QuestionID' column of the input DataFrame.\n",
    "\n",
    "    Returns:\n",
    "    - A pandas DataFrame with columns 'Year_ref', 'LocationAbbr', and 'Data_Value'. Rows are grouped by 'Year_ref' and 'LocationAbbr', and the mean 'Data_Value' for each group is calculated and displayed.\n",
    "\n",
    "    Example:\n",
    "    >>> select_state_evolution(['CA', 'TX'], 'Q123')\n",
    "    Year_ref LocationAbbr Data_Value\n",
    "    2018     CA           30.2\n",
    "             TX           25.6\n",
    "    2019     CA           35.6\n",
    "             TX           28.1\n",
    "    \"\"\"\n",
    "    subset = data1.loc[(data1.LocationAbbr.isin(stateID)) & (data1.QuestionID==ID)]\n",
    "    return subset.groupby(by=['Year_ref','LocationAbbr']).agg({'Data_Value':'mean'}).reset_index()"
   ]
  },
  {
   "cell_type": "code",
   "execution_count": 48,
   "id": "facf0543",
   "metadata": {
    "ExecuteTime": {
     "end_time": "2023-04-03T14:21:18.183499Z",
     "start_time": "2023-04-03T14:21:18.050983Z"
    },
    "scrolled": true
   },
   "outputs": [],
   "source": [
    "states = top_10_obesity_byYear.LocationAbbr.values\n",
    "df = select_state_evolution(states, 'Q036')"
   ]
  },
  {
   "cell_type": "markdown",
   "id": "a6ceafb2",
   "metadata": {},
   "source": [
    "Plot the summary for the top 10 higher percentage obesity about state:"
   ]
  },
  {
   "cell_type": "code",
   "execution_count": 49,
   "id": "639623c6",
   "metadata": {
    "ExecuteTime": {
     "end_time": "2023-04-03T14:21:18.701675Z",
     "start_time": "2023-04-03T14:21:18.185023Z"
    },
    "scrolled": false
   },
   "outputs": [
    {
     "data": {
      "text/plain": [
       "Text(0.5, 1.0, 'Mean Values evolution obesity per year about the top 10 higher states')"
      ]
     },
     "execution_count": 49,
     "metadata": {},
     "output_type": "execute_result"
    },
    {
     "data": {
      "image/png": "[encoded data removed]",
      "text/plain": [
       "<Figure size 864x360 with 1 Axes>"
      ]
     },
     "metadata": {
      "needs_background": "light"
     },
     "output_type": "display_data"
    }
   ],
   "source": [
    "plt.figure(figsize=(12,5))\n",
    "sns.lineplot(data=df, x='Year_ref', y='Data_Value', hue='LocationAbbr')\n",
    "plt.legend()\n",
    "plt.ylabel('Mean % of obesity')\n",
    "plt.title('Mean Values evolution obesity per year about the top 10 higher states')"
   ]
  },
  {
   "cell_type": "markdown",
   "id": "06c6fa85",
   "metadata": {},
   "source": [
    "**Observations:**\n",
    "    \n",
    "    - All states are in uptrend\n",
    "    - About the data, by 2020 all states increase yours rates of obesity"
   ]
  },
  {
   "cell_type": "markdown",
   "id": "d155f4aa",
   "metadata": {},
   "source": [
    "# 2.4 What is the correlation between the % of adults with obesity and the % of adults who do not exercise with the reference on the top 10 higher rate states with obesity?\n",
    "- QuestionID = Q036\n",
    "- QuestionID = Q047"
   ]
  },
  {
   "cell_type": "code",
   "execution_count": 50,
   "id": "49daa945",
   "metadata": {
    "ExecuteTime": {
     "end_time": "2023-04-03T14:21:18.711245Z",
     "start_time": "2023-04-03T14:21:18.703816Z"
    }
   },
   "outputs": [
    {
     "data": {
      "text/plain": [
       "'Percent of adults aged 18 years and older who have obesity'"
      ]
     },
     "execution_count": 50,
     "metadata": {},
     "output_type": "execute_result"
    }
   ],
   "source": [
    "question('Q036')"
   ]
  },
  {
   "cell_type": "code",
   "execution_count": 51,
   "id": "69dc50ba",
   "metadata": {
    "ExecuteTime": {
     "end_time": "2023-04-03T14:21:18.813617Z",
     "start_time": "2023-04-03T14:21:18.712525Z"
    }
   },
   "outputs": [
    {
     "data": {
      "text/plain": [
       "'Percent of adults who engage in no leisure-time physical activity'"
      ]
     },
     "execution_count": 51,
     "metadata": {},
     "output_type": "execute_result"
    }
   ],
   "source": [
    "question('Q047')"
   ]
  },
  {
   "cell_type": "code",
   "execution_count": 52,
   "id": "6f8b7e03",
   "metadata": {
    "ExecuteTime": {
     "end_time": "2023-04-03T14:21:19.295696Z",
     "start_time": "2023-04-03T14:21:18.815249Z"
    }
   },
   "outputs": [
    {
     "data": {
      "text/plain": [
       "Text(0.5, 0, '% obesity')"
      ]
     },
     "execution_count": 52,
     "metadata": {},
     "output_type": "execute_result"
    },
    {
     "data": {
      "image/png": "[encoded data removed]",
      "text/plain": [
       "<Figure size 720x432 with 1 Axes>"
      ]
     },
     "metadata": {
      "needs_background": "light"
     },
     "output_type": "display_data"
    }
   ],
   "source": [
    "# Plot scatterplot for Data_Value to each class question\n",
    "Q036_val = (data1.query('QuestionID == \"Q036\"').\n",
    "            Data_Value.fillna(data1.query('QuestionID ==\"Q036\"').Data_Value.mean()).\n",
    "            reset_index(drop=True).\n",
    "            sample(16000)\n",
    "           )\n",
    "\n",
    "Q047_val = (data1.query('QuestionID == \"Q047\"').\n",
    "            Data_Value.fillna(data1.query('QuestionID ==\"Q047\"').Data_Value.mean()).\n",
    "            reset_index(drop=True).\n",
    "            sample(16000)\n",
    "           )\n",
    "plt.figure(figsize=(10,6))\n",
    "plt.scatter(Q036_val, Q047_val)\n",
    "plt.title('Scatter plot to Data Values about %Obesity with %Non-exercise')\n",
    "plt.ylabel('% non exercise')\n",
    "plt.xlabel('% obesity')"
   ]
  },
  {
   "cell_type": "code",
   "execution_count": 53,
   "id": "1d10a9ce",
   "metadata": {
    "ExecuteTime": {
     "end_time": "2023-04-03T14:21:19.303917Z",
     "start_time": "2023-04-03T14:21:19.297442Z"
    }
   },
   "outputs": [
    {
     "name": "stdout",
     "output_type": "stream",
     "text": [
      "-0.00427315128228732\n"
     ]
    }
   ],
   "source": [
    "# Pearson Correlation: \n",
    "cor_Q036_Q047 = Q036_val.corr(Q047_val)\n",
    "print(cor_Q036_Q047)"
   ]
  },
  {
   "cell_type": "markdown",
   "id": "409522f2",
   "metadata": {},
   "source": [
    "### 2.5 What are the 10 regions that have the highest rates of non-exercise practitioners?"
   ]
  },
  {
   "cell_type": "code",
   "execution_count": 54,
   "id": "da9c8f83",
   "metadata": {
    "ExecuteTime": {
     "end_time": "2023-04-03T14:21:19.567256Z",
     "start_time": "2023-04-03T14:21:19.305838Z"
    }
   },
   "outputs": [
    {
     "data": {
      "text/html": [
       "<div>\n",
       "<style scoped>\n",
       "    .dataframe tbody tr th:only-of-type {\n",
       "        vertical-align: middle;\n",
       "    }\n",
       "\n",
       "    .dataframe tbody tr th {\n",
       "        vertical-align: top;\n",
       "    }\n",
       "\n",
       "    .dataframe thead th {\n",
       "        text-align: right;\n",
       "    }\n",
       "</style>\n",
       "<table border=\"1\" class=\"dataframe\">\n",
       "  <thead>\n",
       "    <tr style=\"text-align: right;\">\n",
       "      <th></th>\n",
       "      <th>Year_ref</th>\n",
       "      <th>LocationAbbr</th>\n",
       "      <th>LocationDesc</th>\n",
       "      <th>Data_Value</th>\n",
       "      <th>Sample_Size</th>\n",
       "    </tr>\n",
       "  </thead>\n",
       "  <tbody>\n",
       "    <tr>\n",
       "      <th>0</th>\n",
       "      <td>2020</td>\n",
       "      <td>US</td>\n",
       "      <td>National</td>\n",
       "      <td>30.6</td>\n",
       "      <td>31255.0</td>\n",
       "    </tr>\n",
       "    <tr>\n",
       "      <th>1</th>\n",
       "      <td>2015</td>\n",
       "      <td>PR</td>\n",
       "      <td>Puerto Rico</td>\n",
       "      <td>38.1</td>\n",
       "      <td>421.0</td>\n",
       "    </tr>\n",
       "  </tbody>\n",
       "</table>\n",
       "</div>"
      ],
      "text/plain": [
       "   Year_ref LocationAbbr LocationDesc  Data_Value  Sample_Size\n",
       "0      2020           US     National        30.6      31255.0\n",
       "1      2015           PR  Puerto Rico        38.1        421.0"
      ]
     },
     "execution_count": 54,
     "metadata": {},
     "output_type": "execute_result"
    }
   ],
   "source": [
    "subset_Q047 = (\n",
    "    data1.loc[data1.QuestionID=='Q047']\n",
    "    [['Year_ref', 'LocationAbbr', 'LocationDesc', 'Data_Value', 'Sample_Size']].\n",
    "    reset_index(drop=True)\n",
    ")\n",
    "subset_Q047.head(2)"
   ]
  },
  {
   "cell_type": "code",
   "execution_count": 55,
   "id": "1a2b80a2",
   "metadata": {
    "ExecuteTime": {
     "end_time": "2023-04-03T14:21:19.810348Z",
     "start_time": "2023-04-03T14:21:19.568642Z"
    },
    "scrolled": true
   },
   "outputs": [
    {
     "data": {
      "text/html": [
       "<div>\n",
       "<style scoped>\n",
       "    .dataframe tbody tr th:only-of-type {\n",
       "        vertical-align: middle;\n",
       "    }\n",
       "\n",
       "    .dataframe tbody tr th {\n",
       "        vertical-align: top;\n",
       "    }\n",
       "\n",
       "    .dataframe thead th {\n",
       "        text-align: right;\n",
       "    }\n",
       "</style>\n",
       "<table border=\"1\" class=\"dataframe\">\n",
       "  <thead>\n",
       "    <tr style=\"text-align: right;\">\n",
       "      <th></th>\n",
       "      <th>LocationAbbr</th>\n",
       "      <th>Data_Value</th>\n",
       "    </tr>\n",
       "  </thead>\n",
       "  <tbody>\n",
       "    <tr>\n",
       "      <th>0</th>\n",
       "      <td>PR</td>\n",
       "      <td>44.234524</td>\n",
       "    </tr>\n",
       "    <tr>\n",
       "      <th>1</th>\n",
       "      <td>MS</td>\n",
       "      <td>33.316800</td>\n",
       "    </tr>\n",
       "    <tr>\n",
       "      <th>2</th>\n",
       "      <td>AR</td>\n",
       "      <td>31.651986</td>\n",
       "    </tr>\n",
       "    <tr>\n",
       "      <th>3</th>\n",
       "      <td>KY</td>\n",
       "      <td>30.976812</td>\n",
       "    </tr>\n",
       "    <tr>\n",
       "      <th>4</th>\n",
       "      <td>LA</td>\n",
       "      <td>30.928881</td>\n",
       "    </tr>\n",
       "    <tr>\n",
       "      <th>5</th>\n",
       "      <td>OK</td>\n",
       "      <td>30.494346</td>\n",
       "    </tr>\n",
       "    <tr>\n",
       "      <th>6</th>\n",
       "      <td>AL</td>\n",
       "      <td>30.399273</td>\n",
       "    </tr>\n",
       "    <tr>\n",
       "      <th>7</th>\n",
       "      <td>TN</td>\n",
       "      <td>30.384444</td>\n",
       "    </tr>\n",
       "    <tr>\n",
       "      <th>8</th>\n",
       "      <td>WV</td>\n",
       "      <td>29.986100</td>\n",
       "    </tr>\n",
       "    <tr>\n",
       "      <th>9</th>\n",
       "      <td>GU</td>\n",
       "      <td>28.909500</td>\n",
       "    </tr>\n",
       "  </tbody>\n",
       "</table>\n",
       "</div>"
      ],
      "text/plain": [
       "  LocationAbbr  Data_Value\n",
       "0           PR   44.234524\n",
       "1           MS   33.316800\n",
       "2           AR   31.651986\n",
       "3           KY   30.976812\n",
       "4           LA   30.928881\n",
       "5           OK   30.494346\n",
       "6           AL   30.399273\n",
       "7           TN   30.384444\n",
       "8           WV   29.986100\n",
       "9           GU   28.909500"
      ]
     },
     "execution_count": 55,
     "metadata": {},
     "output_type": "execute_result"
    }
   ],
   "source": [
    "df_non_exercise = (\n",
    "    subset_Q047.groupby(['LocationAbbr']).\n",
    "    agg({'Data_Value':'mean'}).\n",
    "    sort_values('Data_Value', ascending=False).\n",
    "    reset_index().head(10)\n",
    ")\n",
    "df_non_exercise"
   ]
  },
  {
   "cell_type": "markdown",
   "id": "d1237999",
   "metadata": {},
   "source": [
    "Plot the summary about above table: "
   ]
  },
  {
   "cell_type": "code",
   "execution_count": 56,
   "id": "99212f73",
   "metadata": {
    "ExecuteTime": {
     "end_time": "2023-04-03T14:21:20.170840Z",
     "start_time": "2023-04-03T14:21:19.811575Z"
    }
   },
   "outputs": [
    {
     "data": {
      "text/plain": [
       "Text(0.5, 1.0, 'Top 10 higher rate about non-exercise')"
      ]
     },
     "execution_count": 56,
     "metadata": {},
     "output_type": "execute_result"
    },
    {
     "data": {
      "image/png": "[encoded data removed]",
      "text/plain": [
       "<Figure size 864x360 with 1 Axes>"
      ]
     },
     "metadata": {
      "needs_background": "light"
     },
     "output_type": "display_data"
    }
   ],
   "source": [
    "plt.figure(figsize=(12,5))\n",
    "sns.barplot(data=df_non_exercise, x='LocationAbbr', y='Data_Value')\n",
    "plt.title('Top 10 higher rate about non-exercise')"
   ]
  },
  {
   "cell_type": "markdown",
   "id": "77659b6f",
   "metadata": {},
   "source": [
    "### 2.6 About years rate evolution obesity  Puerto Rico."
   ]
  },
  {
   "cell_type": "code",
   "execution_count": 57,
   "id": "365f03ff",
   "metadata": {
    "ExecuteTime": {
     "end_time": "2023-04-03T14:21:20.199633Z",
     "start_time": "2023-04-03T14:21:20.172434Z"
    }
   },
   "outputs": [
    {
     "data": {
      "text/html": [
       "<div>\n",
       "<style scoped>\n",
       "    .dataframe tbody tr th:only-of-type {\n",
       "        vertical-align: middle;\n",
       "    }\n",
       "\n",
       "    .dataframe tbody tr th {\n",
       "        vertical-align: top;\n",
       "    }\n",
       "\n",
       "    .dataframe thead th {\n",
       "        text-align: right;\n",
       "    }\n",
       "</style>\n",
       "<table border=\"1\" class=\"dataframe\">\n",
       "  <thead>\n",
       "    <tr style=\"text-align: right;\">\n",
       "      <th></th>\n",
       "      <th>Year_ref</th>\n",
       "      <th>LocationAbbr</th>\n",
       "      <th>Data_Value</th>\n",
       "    </tr>\n",
       "  </thead>\n",
       "  <tbody>\n",
       "    <tr>\n",
       "      <th>0</th>\n",
       "      <td>2013</td>\n",
       "      <td>PR</td>\n",
       "      <td>27.576190</td>\n",
       "    </tr>\n",
       "    <tr>\n",
       "      <th>1</th>\n",
       "      <td>2014</td>\n",
       "      <td>PR</td>\n",
       "      <td>27.438095</td>\n",
       "    </tr>\n",
       "    <tr>\n",
       "      <th>2</th>\n",
       "      <td>2015</td>\n",
       "      <td>PR</td>\n",
       "      <td>29.361905</td>\n",
       "    </tr>\n",
       "    <tr>\n",
       "      <th>3</th>\n",
       "      <td>2016</td>\n",
       "      <td>PR</td>\n",
       "      <td>30.176190</td>\n",
       "    </tr>\n",
       "    <tr>\n",
       "      <th>4</th>\n",
       "      <td>2017</td>\n",
       "      <td>PR</td>\n",
       "      <td>31.314286</td>\n",
       "    </tr>\n",
       "    <tr>\n",
       "      <th>5</th>\n",
       "      <td>2018</td>\n",
       "      <td>PR</td>\n",
       "      <td>32.880952</td>\n",
       "    </tr>\n",
       "    <tr>\n",
       "      <th>6</th>\n",
       "      <td>2019</td>\n",
       "      <td>PR</td>\n",
       "      <td>31.947619</td>\n",
       "    </tr>\n",
       "    <tr>\n",
       "      <th>7</th>\n",
       "      <td>2020</td>\n",
       "      <td>PR</td>\n",
       "      <td>31.338095</td>\n",
       "    </tr>\n",
       "    <tr>\n",
       "      <th>8</th>\n",
       "      <td>2021</td>\n",
       "      <td>PR</td>\n",
       "      <td>35.352381</td>\n",
       "    </tr>\n",
       "  </tbody>\n",
       "</table>\n",
       "</div>"
      ],
      "text/plain": [
       "   Year_ref LocationAbbr  Data_Value\n",
       "0      2013           PR   27.576190\n",
       "1      2014           PR   27.438095\n",
       "2      2015           PR   29.361905\n",
       "3      2016           PR   30.176190\n",
       "4      2017           PR   31.314286\n",
       "5      2018           PR   32.880952\n",
       "6      2019           PR   31.947619\n",
       "7      2020           PR   31.338095\n",
       "8      2021           PR   35.352381"
      ]
     },
     "execution_count": 57,
     "metadata": {},
     "output_type": "execute_result"
    }
   ],
   "source": [
    "df_year_PR = select_state_evolution(['PR'], 'Q036')\n",
    "df_year_PR"
   ]
  },
  {
   "cell_type": "code",
   "execution_count": 58,
   "id": "2e46dc58",
   "metadata": {
    "ExecuteTime": {
     "end_time": "2023-04-03T14:21:20.545882Z",
     "start_time": "2023-04-03T14:21:20.201991Z"
    },
    "scrolled": true
   },
   "outputs": [
    {
     "data": {
      "text/plain": [
       "Text(0.5, 1.0, 'Evolution rate obesity at Puerto Rico')"
      ]
     },
     "execution_count": 58,
     "metadata": {},
     "output_type": "execute_result"
    },
    {
     "data": {
      "image/png": "[encoded data removed]",
      "text/plain": [
       "<Figure size 864x360 with 1 Axes>"
      ]
     },
     "metadata": {
      "needs_background": "light"
     },
     "output_type": "display_data"
    }
   ],
   "source": [
    "plt.figure(figsize=(12,5))\n",
    "sns.lineplot(data=df_year_PR, x='Year_ref', y='Data_Value', hue='LocationAbbr')\n",
    "plt.title('Evolution rate obesity at Puerto Rico')"
   ]
  },
  {
   "cell_type": "markdown",
   "id": "96e7ef6c",
   "metadata": {},
   "source": [
    "Note that PR have the higher rate about no leisure-time physical, but this is not the higher rate about obesity. "
   ]
  },
  {
   "cell_type": "code",
   "execution_count": 59,
   "id": "3b9808f7",
   "metadata": {
    "ExecuteTime": {
     "end_time": "2023-04-03T14:21:20.553646Z",
     "start_time": "2023-04-03T14:21:20.547749Z"
    }
   },
   "outputs": [
    {
     "data": {
      "text/plain": [
       "35.352380952380955"
      ]
     },
     "execution_count": 59,
     "metadata": {},
     "output_type": "execute_result"
    }
   ],
   "source": [
    "df_year_PR.Data_Value.max()"
   ]
  },
  {
   "cell_type": "markdown",
   "id": "e0a03c95",
   "metadata": {},
   "source": [
    "### 2.7 What are the rate by year of % obesity? "
   ]
  },
  {
   "cell_type": "code",
   "execution_count": 60,
   "id": "2bcc3a25",
   "metadata": {
    "ExecuteTime": {
     "end_time": "2023-04-03T14:21:20.656948Z",
     "start_time": "2023-04-03T14:21:20.555474Z"
    }
   },
   "outputs": [
    {
     "data": {
      "text/html": [
       "<div>\n",
       "<style scoped>\n",
       "    .dataframe tbody tr th:only-of-type {\n",
       "        vertical-align: middle;\n",
       "    }\n",
       "\n",
       "    .dataframe tbody tr th {\n",
       "        vertical-align: top;\n",
       "    }\n",
       "\n",
       "    .dataframe thead th {\n",
       "        text-align: right;\n",
       "    }\n",
       "</style>\n",
       "<table border=\"1\" class=\"dataframe\">\n",
       "  <thead>\n",
       "    <tr style=\"text-align: right;\">\n",
       "      <th></th>\n",
       "      <th>Year_ref</th>\n",
       "      <th>LocationAbbr</th>\n",
       "      <th>Data_Value</th>\n",
       "    </tr>\n",
       "  </thead>\n",
       "  <tbody>\n",
       "    <tr>\n",
       "      <th>0</th>\n",
       "      <td>2013</td>\n",
       "      <td>PR</td>\n",
       "      <td>27.576190</td>\n",
       "    </tr>\n",
       "    <tr>\n",
       "      <th>1</th>\n",
       "      <td>2014</td>\n",
       "      <td>PR</td>\n",
       "      <td>27.438095</td>\n",
       "    </tr>\n",
       "    <tr>\n",
       "      <th>2</th>\n",
       "      <td>2015</td>\n",
       "      <td>PR</td>\n",
       "      <td>29.361905</td>\n",
       "    </tr>\n",
       "    <tr>\n",
       "      <th>3</th>\n",
       "      <td>2016</td>\n",
       "      <td>PR</td>\n",
       "      <td>30.176190</td>\n",
       "    </tr>\n",
       "    <tr>\n",
       "      <th>4</th>\n",
       "      <td>2017</td>\n",
       "      <td>PR</td>\n",
       "      <td>31.314286</td>\n",
       "    </tr>\n",
       "    <tr>\n",
       "      <th>5</th>\n",
       "      <td>2018</td>\n",
       "      <td>PR</td>\n",
       "      <td>32.880952</td>\n",
       "    </tr>\n",
       "    <tr>\n",
       "      <th>6</th>\n",
       "      <td>2019</td>\n",
       "      <td>PR</td>\n",
       "      <td>31.947619</td>\n",
       "    </tr>\n",
       "    <tr>\n",
       "      <th>7</th>\n",
       "      <td>2020</td>\n",
       "      <td>PR</td>\n",
       "      <td>31.338095</td>\n",
       "    </tr>\n",
       "    <tr>\n",
       "      <th>8</th>\n",
       "      <td>2021</td>\n",
       "      <td>PR</td>\n",
       "      <td>35.352381</td>\n",
       "    </tr>\n",
       "  </tbody>\n",
       "</table>\n",
       "</div>"
      ],
      "text/plain": [
       "   Year_ref LocationAbbr  Data_Value\n",
       "0      2013           PR   27.576190\n",
       "1      2014           PR   27.438095\n",
       "2      2015           PR   29.361905\n",
       "3      2016           PR   30.176190\n",
       "4      2017           PR   31.314286\n",
       "5      2018           PR   32.880952\n",
       "6      2019           PR   31.947619\n",
       "7      2020           PR   31.338095\n",
       "8      2021           PR   35.352381"
      ]
     },
     "execution_count": 60,
     "metadata": {},
     "output_type": "execute_result"
    }
   ],
   "source": [
    "sub_data_rate = select_state_evolution(['PR'], 'Q036')\n",
    "sub_data_rate"
   ]
  },
  {
   "cell_type": "code",
   "execution_count": 61,
   "id": "f3e06e21",
   "metadata": {
    "ExecuteTime": {
     "end_time": "2023-04-03T14:21:20.749404Z",
     "start_time": "2023-04-03T14:21:20.659088Z"
    }
   },
   "outputs": [
    {
     "data": {
      "text/plain": [
       "0         NaN\n",
       "1   -0.005008\n",
       "2    0.070115\n",
       "3    0.027733\n",
       "4    0.037715\n",
       "5    0.050030\n",
       "6   -0.028385\n",
       "7   -0.019079\n",
       "8    0.128096\n",
       "Name: Data_Value, dtype: float64"
      ]
     },
     "execution_count": 61,
     "metadata": {},
     "output_type": "execute_result"
    }
   ],
   "source": [
    "sub_data_rate['Data_Value'].pct_change()"
   ]
  },
  {
   "cell_type": "code",
   "execution_count": 62,
   "id": "dbc5124e",
   "metadata": {
    "ExecuteTime": {
     "end_time": "2023-04-03T14:21:20.845085Z",
     "start_time": "2023-04-03T14:21:20.751577Z"
    }
   },
   "outputs": [],
   "source": [
    "def calculate_change_rate_by_state(stateID: list, questionID:str):\n",
    "    subdata = select_state_evolution(list(stateID), questionID)\n",
    "    result = subdata['Data_Value'].pct_change()\n",
    "    result.index = subdata.Year_ref.values\n",
    "    return result"
   ]
  },
  {
   "cell_type": "code",
   "execution_count": 63,
   "id": "5fc90176",
   "metadata": {
    "ExecuteTime": {
     "end_time": "2023-04-03T14:21:21.057052Z",
     "start_time": "2023-04-03T14:21:20.847074Z"
    }
   },
   "outputs": [
    {
     "data": {
      "text/plain": [
       "2013         NaN\n",
       "2014   -0.005008\n",
       "2015    0.070115\n",
       "2016    0.027733\n",
       "2017    0.037715\n",
       "2018    0.050030\n",
       "2019   -0.028385\n",
       "2020   -0.019079\n",
       "2021    0.128096\n",
       "Name: Data_Value, dtype: float64"
      ]
     },
     "execution_count": 63,
     "metadata": {},
     "output_type": "execute_result"
    }
   ],
   "source": [
    "# Example rates of Puerto Rico: \n",
    "calculate_change_rate_by_state(['PR'],'Q036')"
   ]
  },
  {
   "cell_type": "code",
   "execution_count": 64,
   "id": "92a6e44f",
   "metadata": {
    "ExecuteTime": {
     "end_time": "2023-04-03T14:21:21.854230Z",
     "start_time": "2023-04-03T14:21:21.058481Z"
    }
   },
   "outputs": [],
   "source": [
    "all_stateID = data1.LocationAbbr.unique()\n",
    "df_rate_obesity_states = pd.DataFrame()\n",
    "for state in all_stateID: \n",
    "    df_rate_obesity_states = pd.concat([df_rate_obesity_states, calculate_change_rate_by_state([state],'Q036')],\n",
    "                                        axis=1,\n",
    "                                      )\n",
    "df_rate_obesity_states.columns = all_stateID"
   ]
  },
  {
   "cell_type": "code",
   "execution_count": 65,
   "id": "9df305de",
   "metadata": {
    "ExecuteTime": {
     "end_time": "2023-04-03T14:21:21.956408Z",
     "start_time": "2023-04-03T14:21:21.856302Z"
    }
   },
   "outputs": [
    {
     "data": {
      "text/html": [
       "<div>\n",
       "<style scoped>\n",
       "    .dataframe tbody tr th:only-of-type {\n",
       "        vertical-align: middle;\n",
       "    }\n",
       "\n",
       "    .dataframe tbody tr th {\n",
       "        vertical-align: top;\n",
       "    }\n",
       "\n",
       "    .dataframe thead th {\n",
       "        text-align: right;\n",
       "    }\n",
       "</style>\n",
       "<table border=\"1\" class=\"dataframe\">\n",
       "  <thead>\n",
       "    <tr style=\"text-align: right;\">\n",
       "      <th></th>\n",
       "      <th>US</th>\n",
       "      <th>GU</th>\n",
       "      <th>WY</th>\n",
       "      <th>DC</th>\n",
       "      <th>PR</th>\n",
       "      <th>AL</th>\n",
       "      <th>RI</th>\n",
       "      <th>DE</th>\n",
       "      <th>NJ</th>\n",
       "      <th>WA</th>\n",
       "      <th>...</th>\n",
       "      <th>NE</th>\n",
       "      <th>TN</th>\n",
       "      <th>MO</th>\n",
       "      <th>NV</th>\n",
       "      <th>IA</th>\n",
       "      <th>IN</th>\n",
       "      <th>OH</th>\n",
       "      <th>AK</th>\n",
       "      <th>VT</th>\n",
       "      <th>CT</th>\n",
       "    </tr>\n",
       "  </thead>\n",
       "  <tbody>\n",
       "    <tr>\n",
       "      <th>count</th>\n",
       "      <td>10.000000</td>\n",
       "      <td>7.000000</td>\n",
       "      <td>10.000000</td>\n",
       "      <td>10.000000</td>\n",
       "      <td>8.000000</td>\n",
       "      <td>10.000000</td>\n",
       "      <td>10.000000</td>\n",
       "      <td>10.000000</td>\n",
       "      <td>10.000000</td>\n",
       "      <td>10.000000</td>\n",
       "      <td>...</td>\n",
       "      <td>10.000000</td>\n",
       "      <td>10.000000</td>\n",
       "      <td>10.000000</td>\n",
       "      <td>10.000000</td>\n",
       "      <td>10.000000</td>\n",
       "      <td>10.000000</td>\n",
       "      <td>10.000000</td>\n",
       "      <td>10.000000</td>\n",
       "      <td>10.000000</td>\n",
       "      <td>10.000000</td>\n",
       "    </tr>\n",
       "    <tr>\n",
       "      <th>mean</th>\n",
       "      <td>0.021410</td>\n",
       "      <td>0.032079</td>\n",
       "      <td>0.027509</td>\n",
       "      <td>0.011331</td>\n",
       "      <td>0.032652</td>\n",
       "      <td>0.025584</td>\n",
       "      <td>0.022314</td>\n",
       "      <td>0.021367</td>\n",
       "      <td>0.020468</td>\n",
       "      <td>0.014127</td>\n",
       "      <td>...</td>\n",
       "      <td>0.026455</td>\n",
       "      <td>0.020590</td>\n",
       "      <td>0.021843</td>\n",
       "      <td>0.024394</td>\n",
       "      <td>0.028815</td>\n",
       "      <td>0.012819</td>\n",
       "      <td>0.025043</td>\n",
       "      <td>0.021703</td>\n",
       "      <td>0.016550</td>\n",
       "      <td>0.022159</td>\n",
       "    </tr>\n",
       "    <tr>\n",
       "      <th>std</th>\n",
       "      <td>0.010918</td>\n",
       "      <td>0.122579</td>\n",
       "      <td>0.047354</td>\n",
       "      <td>0.044611</td>\n",
       "      <td>0.051665</td>\n",
       "      <td>0.040468</td>\n",
       "      <td>0.055341</td>\n",
       "      <td>0.064727</td>\n",
       "      <td>0.058608</td>\n",
       "      <td>0.046734</td>\n",
       "      <td>...</td>\n",
       "      <td>0.027119</td>\n",
       "      <td>0.061059</td>\n",
       "      <td>0.072647</td>\n",
       "      <td>0.065539</td>\n",
       "      <td>0.077794</td>\n",
       "      <td>0.032753</td>\n",
       "      <td>0.048789</td>\n",
       "      <td>0.089909</td>\n",
       "      <td>0.051104</td>\n",
       "      <td>0.050786</td>\n",
       "    </tr>\n",
       "    <tr>\n",
       "      <th>min</th>\n",
       "      <td>0.006177</td>\n",
       "      <td>-0.125813</td>\n",
       "      <td>-0.066756</td>\n",
       "      <td>-0.052448</td>\n",
       "      <td>-0.028385</td>\n",
       "      <td>-0.033462</td>\n",
       "      <td>-0.036439</td>\n",
       "      <td>-0.070218</td>\n",
       "      <td>-0.083697</td>\n",
       "      <td>-0.036104</td>\n",
       "      <td>...</td>\n",
       "      <td>-0.009782</td>\n",
       "      <td>-0.081905</td>\n",
       "      <td>-0.063037</td>\n",
       "      <td>-0.092948</td>\n",
       "      <td>-0.078635</td>\n",
       "      <td>-0.055605</td>\n",
       "      <td>-0.071050</td>\n",
       "      <td>-0.147880</td>\n",
       "      <td>-0.065519</td>\n",
       "      <td>-0.051072</td>\n",
       "    </tr>\n",
       "    <tr>\n",
       "      <th>25%</th>\n",
       "      <td>0.013080</td>\n",
       "      <td>-0.061998</td>\n",
       "      <td>0.005304</td>\n",
       "      <td>-0.013645</td>\n",
       "      <td>-0.008526</td>\n",
       "      <td>-0.002436</td>\n",
       "      <td>-0.025277</td>\n",
       "      <td>-0.013343</td>\n",
       "      <td>-0.009041</td>\n",
       "      <td>-0.019331</td>\n",
       "      <td>...</td>\n",
       "      <td>0.012163</td>\n",
       "      <td>-0.023268</td>\n",
       "      <td>-0.022804</td>\n",
       "      <td>-0.012077</td>\n",
       "      <td>-0.022865</td>\n",
       "      <td>0.006247</td>\n",
       "      <td>0.010892</td>\n",
       "      <td>0.006237</td>\n",
       "      <td>-0.032275</td>\n",
       "      <td>-0.008131</td>\n",
       "    </tr>\n",
       "    <tr>\n",
       "      <th>50%</th>\n",
       "      <td>0.021307</td>\n",
       "      <td>0.024438</td>\n",
       "      <td>0.031929</td>\n",
       "      <td>0.005074</td>\n",
       "      <td>0.032724</td>\n",
       "      <td>0.024073</td>\n",
       "      <td>0.010040</td>\n",
       "      <td>0.010387</td>\n",
       "      <td>0.009354</td>\n",
       "      <td>0.003929</td>\n",
       "      <td>...</td>\n",
       "      <td>0.020036</td>\n",
       "      <td>0.037975</td>\n",
       "      <td>-0.003406</td>\n",
       "      <td>0.034841</td>\n",
       "      <td>0.027942</td>\n",
       "      <td>0.012031</td>\n",
       "      <td>0.021532</td>\n",
       "      <td>0.040293</td>\n",
       "      <td>0.041774</td>\n",
       "      <td>0.020556</td>\n",
       "    </tr>\n",
       "    <tr>\n",
       "      <th>75%</th>\n",
       "      <td>0.028378</td>\n",
       "      <td>0.125942</td>\n",
       "      <td>0.056740</td>\n",
       "      <td>0.024555</td>\n",
       "      <td>0.055051</td>\n",
       "      <td>0.047613</td>\n",
       "      <td>0.070299</td>\n",
       "      <td>0.063967</td>\n",
       "      <td>0.052177</td>\n",
       "      <td>0.027296</td>\n",
       "      <td>...</td>\n",
       "      <td>0.041880</td>\n",
       "      <td>0.065026</td>\n",
       "      <td>0.047983</td>\n",
       "      <td>0.058032</td>\n",
       "      <td>0.086664</td>\n",
       "      <td>0.028845</td>\n",
       "      <td>0.064383</td>\n",
       "      <td>0.062638</td>\n",
       "      <td>0.059440</td>\n",
       "      <td>0.055465</td>\n",
       "    </tr>\n",
       "    <tr>\n",
       "      <th>max</th>\n",
       "      <td>0.042860</td>\n",
       "      <td>0.198045</td>\n",
       "      <td>0.106873</td>\n",
       "      <td>0.107855</td>\n",
       "      <td>0.128096</td>\n",
       "      <td>0.092482</td>\n",
       "      <td>0.109806</td>\n",
       "      <td>0.145197</td>\n",
       "      <td>0.119315</td>\n",
       "      <td>0.110013</td>\n",
       "      <td>...</td>\n",
       "      <td>0.071401</td>\n",
       "      <td>0.097783</td>\n",
       "      <td>0.177813</td>\n",
       "      <td>0.127626</td>\n",
       "      <td>0.159561</td>\n",
       "      <td>0.058248</td>\n",
       "      <td>0.091548</td>\n",
       "      <td>0.151703</td>\n",
       "      <td>0.065467</td>\n",
       "      <td>0.108570</td>\n",
       "    </tr>\n",
       "  </tbody>\n",
       "</table>\n",
       "<p>8 rows × 55 columns</p>\n",
       "</div>"
      ],
      "text/plain": [
       "              US        GU         WY         DC        PR         AL  \\\n",
       "count  10.000000  7.000000  10.000000  10.000000  8.000000  10.000000   \n",
       "mean    0.021410  0.032079   0.027509   0.011331  0.032652   0.025584   \n",
       "std     0.010918  0.122579   0.047354   0.044611  0.051665   0.040468   \n",
       "min     0.006177 -0.125813  -0.066756  -0.052448 -0.028385  -0.033462   \n",
       "25%     0.013080 -0.061998   0.005304  -0.013645 -0.008526  -0.002436   \n",
       "50%     0.021307  0.024438   0.031929   0.005074  0.032724   0.024073   \n",
       "75%     0.028378  0.125942   0.056740   0.024555  0.055051   0.047613   \n",
       "max     0.042860  0.198045   0.106873   0.107855  0.128096   0.092482   \n",
       "\n",
       "              RI         DE         NJ         WA  ...         NE         TN  \\\n",
       "count  10.000000  10.000000  10.000000  10.000000  ...  10.000000  10.000000   \n",
       "mean    0.022314   0.021367   0.020468   0.014127  ...   0.026455   0.020590   \n",
       "std     0.055341   0.064727   0.058608   0.046734  ...   0.027119   0.061059   \n",
       "min    -0.036439  -0.070218  -0.083697  -0.036104  ...  -0.009782  -0.081905   \n",
       "25%    -0.025277  -0.013343  -0.009041  -0.019331  ...   0.012163  -0.023268   \n",
       "50%     0.010040   0.010387   0.009354   0.003929  ...   0.020036   0.037975   \n",
       "75%     0.070299   0.063967   0.052177   0.027296  ...   0.041880   0.065026   \n",
       "max     0.109806   0.145197   0.119315   0.110013  ...   0.071401   0.097783   \n",
       "\n",
       "              MO         NV         IA         IN         OH         AK  \\\n",
       "count  10.000000  10.000000  10.000000  10.000000  10.000000  10.000000   \n",
       "mean    0.021843   0.024394   0.028815   0.012819   0.025043   0.021703   \n",
       "std     0.072647   0.065539   0.077794   0.032753   0.048789   0.089909   \n",
       "min    -0.063037  -0.092948  -0.078635  -0.055605  -0.071050  -0.147880   \n",
       "25%    -0.022804  -0.012077  -0.022865   0.006247   0.010892   0.006237   \n",
       "50%    -0.003406   0.034841   0.027942   0.012031   0.021532   0.040293   \n",
       "75%     0.047983   0.058032   0.086664   0.028845   0.064383   0.062638   \n",
       "max     0.177813   0.127626   0.159561   0.058248   0.091548   0.151703   \n",
       "\n",
       "              VT         CT  \n",
       "count  10.000000  10.000000  \n",
       "mean    0.016550   0.022159  \n",
       "std     0.051104   0.050786  \n",
       "min    -0.065519  -0.051072  \n",
       "25%    -0.032275  -0.008131  \n",
       "50%     0.041774   0.020556  \n",
       "75%     0.059440   0.055465  \n",
       "max     0.065467   0.108570  \n",
       "\n",
       "[8 rows x 55 columns]"
      ]
     },
     "execution_count": 65,
     "metadata": {},
     "output_type": "execute_result"
    }
   ],
   "source": [
    "# Summary statistical rates: \n",
    "df_rate_obesity_states.describe()"
   ]
  },
  {
   "cell_type": "code",
   "execution_count": 66,
   "id": "3e474bdd",
   "metadata": {
    "ExecuteTime": {
     "end_time": "2023-04-03T14:21:22.309736Z",
     "start_time": "2023-04-03T14:21:21.957753Z"
    },
    "scrolled": false
   },
   "outputs": [
    {
     "data": {
      "text/plain": [
       "<matplotlib.legend.Legend at 0x7fbdcce639d0>"
      ]
     },
     "execution_count": 66,
     "metadata": {},
     "output_type": "execute_result"
    },
    {
     "data": {
      "image/png": "[encoded data removed]",
      "text/plain": [
       "<Figure size 864x432 with 1 Axes>"
      ]
     },
     "metadata": {
      "needs_background": "light"
     },
     "output_type": "display_data"
    }
   ],
   "source": [
    "# Plot top 10 higher states % obesity\n",
    "plt.figure(figsize=(12,6))\n",
    "plt.plot(df_rate_obesity_states[states], label=states)\n",
    "plt.title('Plot rate of 10 top higher state % obesity')\n",
    "plt.ylabel('rate % obesity')\n",
    "plt.xlabel('Reference Year')\n",
    "plt.legend()"
   ]
  },
  {
   "cell_type": "code",
   "execution_count": 67,
   "id": "7cbf07e3",
   "metadata": {
    "ExecuteTime": {
     "end_time": "2023-04-03T14:21:22.634949Z",
     "start_time": "2023-04-03T14:21:22.311165Z"
    }
   },
   "outputs": [
    {
     "data": {
      "text/plain": [
       "Text(0, 0.5, 'ID States')"
      ]
     },
     "execution_count": 67,
     "metadata": {},
     "output_type": "execute_result"
    },
    {
     "data": {
      "image/png": "[encoded data removed]",
      "text/plain": [
       "<Figure size 576x432 with 1 Axes>"
      ]
     },
     "metadata": {
      "needs_background": "light"
     },
     "output_type": "display_data"
    }
   ],
   "source": [
    "# Top 10 rates: \n",
    "plt.figure(figsize=(8,6))\n",
    "df_rate_obesity_states.describe().loc['mean'].sort_values(ascending=False)[:10].plot.barh()\n",
    "plt.title('Top 10 mean rates per year of %obesity')\n",
    "plt.xlabel('mean % rate of all period')\n",
    "plt.ylabel('ID States')"
   ]
  }
 ],
 "metadata": {
  "kernelspec": {
   "display_name": "Python 3 (ipykernel)",
   "language": "python",
   "name": "python3"
  },
  "language_info": {
   "codemirror_mode": {
    "name": "ipython",
    "version": 3
   },
   "file_extension": ".py",
   "mimetype": "text/x-python",
   "name": "python",
   "nbconvert_exporter": "python",
   "pygments_lexer": "ipython3",
   "version": "3.9.7"
  }
 },
 "nbformat": 4,
 "nbformat_minor": 5
}
